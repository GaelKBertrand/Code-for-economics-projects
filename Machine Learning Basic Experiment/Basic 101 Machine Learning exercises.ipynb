{
 "nbformat": 4,
 "nbformat_minor": 0,
 "metadata": {
  "colab": {
   "name": "Bertrand_Kwibuka_A2_q1 and q2.ipynb",
   "provenance": [],
   "collapsed_sections": []
  },
  "kernelspec": {
   "name": "python3",
   "display_name": "Python 3"
  },
  "language_info": {
   "name": "python"
  }
 },
 "cells": [
  {
   "cell_type": "markdown",
   "source": [
    "# Using linear features \n"
   ],
   "metadata": {
    "id": "vXl4VCqcrHvE"
   }
  },
  {
   "cell_type": "markdown",
   "source": [
    "#Allow Drive Access"
   ],
   "metadata": {
    "id": "Y9vn7Jn6BWnD"
   }
  },
  {
   "cell_type": "code",
   "execution_count": null,
   "metadata": {
    "id": "WojRss5zAD_R",
    "colab": {
     "base_uri": "https://localhost:8080/"
    },
    "executionInfo": {
     "status": "ok",
     "timestamp": 1650471893414,
     "user_tz": -330,
     "elapsed": 6860,
     "user": {
      "displayName": "Bertrand Kwibuka",
      "userId": "03353322417714764277"
     }
    },
    "outputId": "973e11d0-8e65-4c9a-9520-f95612e3d789"
   },
   "outputs": [
    {
     "output_type": "stream",
     "name": "stdout",
     "text": [
      "Mounted at /content/drive\n"
     ]
    }
   ],
   "source": [
    "from google.colab import drive\n",
    "drive.mount('/content/drive', force_remount=True)"
   ]
  },
  {
   "cell_type": "markdown",
   "source": [
    "#Import Dependencies"
   ],
   "metadata": {
    "id": "GlxIkJNHBqqo"
   }
  },
  {
   "cell_type": "code",
   "source": [
    "import pandas as pd\n",
    "from sklearn.model_selection import train_test_split\n",
    "from sklearn.preprocessing import StandardScaler\n",
    "import time\n",
    "import matplotlib.pyplot as plt\n",
    "import numpy as np\n",
    "from sklearn.linear_model import LogisticRegression\n",
    "from sklearn.model_selection import learning_curve\n",
    "from sklearn.preprocessing import PolynomialFeatures"
   ],
   "metadata": {
    "id": "5FE9U4DBBKlU"
   },
   "execution_count": null,
   "outputs": []
  },
  {
   "cell_type": "markdown",
   "source": [
    "#Load Data"
   ],
   "metadata": {
    "id": "3WuIE2uhBuKT"
   }
  },
  {
   "cell_type": "code",
   "source": [
    "path = '/content/drive/My Drive/Assign2/'\n",
    "file = 'mnist_train.csv'\n",
    "df = pd.read_csv(path+file)"
   ],
   "metadata": {
    "id": "4dLyEJmjBMmz"
   },
   "execution_count": null,
   "outputs": []
  },
  {
   "cell_type": "markdown",
   "source": [
    "## Taking a look at Data"
   ],
   "metadata": {
    "id": "VVEteOdsB7j8"
   }
  },
  {
   "cell_type": "code",
   "source": [
    "df.head()"
   ],
   "metadata": {
    "id": "CvYxY70ICT9z",
    "colab": {
     "base_uri": "https://localhost:8080/"
    },
    "executionInfo": {
     "status": "ok",
     "timestamp": 1650471913470,
     "user_tz": -330,
     "elapsed": 47,
     "user": {
      "displayName": "Bertrand Kwibuka",
      "userId": "03353322417714764277"
     }
    },
    "outputId": "1e779b60-e48f-4026-8aaa-3feed70f7d41"
   },
   "execution_count": null,
   "outputs": [
    {
     "output_type": "execute_result",
     "data": {
      "text/plain": [
       "   label  1x1  1x2  1x3  1x4  1x5  1x6  1x7  1x8  1x9  ...  28x19  28x20  \\\n",
       "0      5    0    0    0    0    0    0    0    0    0  ...      0      0   \n",
       "1      0    0    0    0    0    0    0    0    0    0  ...      0      0   \n",
       "2      4    0    0    0    0    0    0    0    0    0  ...      0      0   \n",
       "3      1    0    0    0    0    0    0    0    0    0  ...      0      0   \n",
       "4      9    0    0    0    0    0    0    0    0    0  ...      0      0   \n",
       "\n",
       "   28x21  28x22  28x23  28x24  28x25  28x26  28x27  28x28  \n",
       "0      0      0      0      0      0      0      0      0  \n",
       "1      0      0      0      0      0      0      0      0  \n",
       "2      0      0      0      0      0      0      0      0  \n",
       "3      0      0      0      0      0      0      0      0  \n",
       "4      0      0      0      0      0      0      0      0  \n",
       "\n",
       "[5 rows x 785 columns]"
      ],
      "text/html": [
       "\n",
       "  <div id=\"df-d344808c-32c8-4242-8cb0-51189e616f41\">\n",
       "    <div class=\"colab-df-container\">\n",
       "      <div>\n",
       "<style scoped>\n",
       "    .dataframe tbody tr th:only-of-type {\n",
       "        vertical-align: middle;\n",
       "    }\n",
       "\n",
       "    .dataframe tbody tr th {\n",
       "        vertical-align: top;\n",
       "    }\n",
       "\n",
       "    .dataframe thead th {\n",
       "        text-align: right;\n",
       "    }\n",
       "</style>\n",
       "<table border=\"1\" class=\"dataframe\">\n",
       "  <thead>\n",
       "    <tr style=\"text-align: right;\">\n",
       "      <th></th>\n",
       "      <th>label</th>\n",
       "      <th>1x1</th>\n",
       "      <th>1x2</th>\n",
       "      <th>1x3</th>\n",
       "      <th>1x4</th>\n",
       "      <th>1x5</th>\n",
       "      <th>1x6</th>\n",
       "      <th>1x7</th>\n",
       "      <th>1x8</th>\n",
       "      <th>1x9</th>\n",
       "      <th>...</th>\n",
       "      <th>28x19</th>\n",
       "      <th>28x20</th>\n",
       "      <th>28x21</th>\n",
       "      <th>28x22</th>\n",
       "      <th>28x23</th>\n",
       "      <th>28x24</th>\n",
       "      <th>28x25</th>\n",
       "      <th>28x26</th>\n",
       "      <th>28x27</th>\n",
       "      <th>28x28</th>\n",
       "    </tr>\n",
       "  </thead>\n",
       "  <tbody>\n",
       "    <tr>\n",
       "      <th>0</th>\n",
       "      <td>5</td>\n",
       "      <td>0</td>\n",
       "      <td>0</td>\n",
       "      <td>0</td>\n",
       "      <td>0</td>\n",
       "      <td>0</td>\n",
       "      <td>0</td>\n",
       "      <td>0</td>\n",
       "      <td>0</td>\n",
       "      <td>0</td>\n",
       "      <td>...</td>\n",
       "      <td>0</td>\n",
       "      <td>0</td>\n",
       "      <td>0</td>\n",
       "      <td>0</td>\n",
       "      <td>0</td>\n",
       "      <td>0</td>\n",
       "      <td>0</td>\n",
       "      <td>0</td>\n",
       "      <td>0</td>\n",
       "      <td>0</td>\n",
       "    </tr>\n",
       "    <tr>\n",
       "      <th>1</th>\n",
       "      <td>0</td>\n",
       "      <td>0</td>\n",
       "      <td>0</td>\n",
       "      <td>0</td>\n",
       "      <td>0</td>\n",
       "      <td>0</td>\n",
       "      <td>0</td>\n",
       "      <td>0</td>\n",
       "      <td>0</td>\n",
       "      <td>0</td>\n",
       "      <td>...</td>\n",
       "      <td>0</td>\n",
       "      <td>0</td>\n",
       "      <td>0</td>\n",
       "      <td>0</td>\n",
       "      <td>0</td>\n",
       "      <td>0</td>\n",
       "      <td>0</td>\n",
       "      <td>0</td>\n",
       "      <td>0</td>\n",
       "      <td>0</td>\n",
       "    </tr>\n",
       "    <tr>\n",
       "      <th>2</th>\n",
       "      <td>4</td>\n",
       "      <td>0</td>\n",
       "      <td>0</td>\n",
       "      <td>0</td>\n",
       "      <td>0</td>\n",
       "      <td>0</td>\n",
       "      <td>0</td>\n",
       "      <td>0</td>\n",
       "      <td>0</td>\n",
       "      <td>0</td>\n",
       "      <td>...</td>\n",
       "      <td>0</td>\n",
       "      <td>0</td>\n",
       "      <td>0</td>\n",
       "      <td>0</td>\n",
       "      <td>0</td>\n",
       "      <td>0</td>\n",
       "      <td>0</td>\n",
       "      <td>0</td>\n",
       "      <td>0</td>\n",
       "      <td>0</td>\n",
       "    </tr>\n",
       "    <tr>\n",
       "      <th>3</th>\n",
       "      <td>1</td>\n",
       "      <td>0</td>\n",
       "      <td>0</td>\n",
       "      <td>0</td>\n",
       "      <td>0</td>\n",
       "      <td>0</td>\n",
       "      <td>0</td>\n",
       "      <td>0</td>\n",
       "      <td>0</td>\n",
       "      <td>0</td>\n",
       "      <td>...</td>\n",
       "      <td>0</td>\n",
       "      <td>0</td>\n",
       "      <td>0</td>\n",
       "      <td>0</td>\n",
       "      <td>0</td>\n",
       "      <td>0</td>\n",
       "      <td>0</td>\n",
       "      <td>0</td>\n",
       "      <td>0</td>\n",
       "      <td>0</td>\n",
       "    </tr>\n",
       "    <tr>\n",
       "      <th>4</th>\n",
       "      <td>9</td>\n",
       "      <td>0</td>\n",
       "      <td>0</td>\n",
       "      <td>0</td>\n",
       "      <td>0</td>\n",
       "      <td>0</td>\n",
       "      <td>0</td>\n",
       "      <td>0</td>\n",
       "      <td>0</td>\n",
       "      <td>0</td>\n",
       "      <td>...</td>\n",
       "      <td>0</td>\n",
       "      <td>0</td>\n",
       "      <td>0</td>\n",
       "      <td>0</td>\n",
       "      <td>0</td>\n",
       "      <td>0</td>\n",
       "      <td>0</td>\n",
       "      <td>0</td>\n",
       "      <td>0</td>\n",
       "      <td>0</td>\n",
       "    </tr>\n",
       "  </tbody>\n",
       "</table>\n",
       "<p>5 rows × 785 columns</p>\n",
       "</div>\n",
       "      <button class=\"colab-df-convert\" onclick=\"convertToInteractive('df-d344808c-32c8-4242-8cb0-51189e616f41')\"\n",
       "              title=\"Convert this dataframe to an interactive table.\"\n",
       "              style=\"display:none;\">\n",
       "        \n",
       "  <svg xmlns=\"http://www.w3.org/2000/svg\" height=\"24px\"viewBox=\"0 0 24 24\"\n",
       "       width=\"24px\">\n",
       "    <path d=\"M0 0h24v24H0V0z\" fill=\"none\"/>\n",
       "    <path d=\"M18.56 5.44l.94 2.06.94-2.06 2.06-.94-2.06-.94-.94-2.06-.94 2.06-2.06.94zm-11 1L8.5 8.5l.94-2.06 2.06-.94-2.06-.94L8.5 2.5l-.94 2.06-2.06.94zm10 10l.94 2.06.94-2.06 2.06-.94-2.06-.94-.94-2.06-.94 2.06-2.06.94z\"/><path d=\"M17.41 7.96l-1.37-1.37c-.4-.4-.92-.59-1.43-.59-.52 0-1.04.2-1.43.59L10.3 9.45l-7.72 7.72c-.78.78-.78 2.05 0 2.83L4 21.41c.39.39.9.59 1.41.59.51 0 1.02-.2 1.41-.59l7.78-7.78 2.81-2.81c.8-.78.8-2.07 0-2.86zM5.41 20L4 18.59l7.72-7.72 1.47 1.35L5.41 20z\"/>\n",
       "  </svg>\n",
       "      </button>\n",
       "      \n",
       "  <style>\n",
       "    .colab-df-container {\n",
       "      display:flex;\n",
       "      flex-wrap:wrap;\n",
       "      gap: 12px;\n",
       "    }\n",
       "\n",
       "    .colab-df-convert {\n",
       "      background-color: #E8F0FE;\n",
       "      border: none;\n",
       "      border-radius: 50%;\n",
       "      cursor: pointer;\n",
       "      display: none;\n",
       "      fill: #1967D2;\n",
       "      height: 32px;\n",
       "      padding: 0 0 0 0;\n",
       "      width: 32px;\n",
       "    }\n",
       "\n",
       "    .colab-df-convert:hover {\n",
       "      background-color: #E2EBFA;\n",
       "      box-shadow: 0px 1px 2px rgba(60, 64, 67, 0.3), 0px 1px 3px 1px rgba(60, 64, 67, 0.15);\n",
       "      fill: #174EA6;\n",
       "    }\n",
       "\n",
       "    [theme=dark] .colab-df-convert {\n",
       "      background-color: #3B4455;\n",
       "      fill: #D2E3FC;\n",
       "    }\n",
       "\n",
       "    [theme=dark] .colab-df-convert:hover {\n",
       "      background-color: #434B5C;\n",
       "      box-shadow: 0px 1px 3px 1px rgba(0, 0, 0, 0.15);\n",
       "      filter: drop-shadow(0px 1px 2px rgba(0, 0, 0, 0.3));\n",
       "      fill: #FFFFFF;\n",
       "    }\n",
       "  </style>\n",
       "\n",
       "      <script>\n",
       "        const buttonEl =\n",
       "          document.querySelector('#df-d344808c-32c8-4242-8cb0-51189e616f41 button.colab-df-convert');\n",
       "        buttonEl.style.display =\n",
       "          google.colab.kernel.accessAllowed ? 'block' : 'none';\n",
       "\n",
       "        async function convertToInteractive(key) {\n",
       "          const element = document.querySelector('#df-d344808c-32c8-4242-8cb0-51189e616f41');\n",
       "          const dataTable =\n",
       "            await google.colab.kernel.invokeFunction('convertToInteractive',\n",
       "                                                     [key], {});\n",
       "          if (!dataTable) return;\n",
       "\n",
       "          const docLinkHtml = 'Like what you see? Visit the ' +\n",
       "            '<a target=\"_blank\" href=https://colab.research.google.com/notebooks/data_table.ipynb>data table notebook</a>'\n",
       "            + ' to learn more about interactive tables.';\n",
       "          element.innerHTML = '';\n",
       "          dataTable['output_type'] = 'display_data';\n",
       "          await google.colab.output.renderOutput(dataTable, element);\n",
       "          const docLink = document.createElement('div');\n",
       "          docLink.innerHTML = docLinkHtml;\n",
       "          element.appendChild(docLink);\n",
       "        }\n",
       "      </script>\n",
       "    </div>\n",
       "  </div>\n",
       "  "
      ]
     },
     "metadata": {},
     "execution_count": 4
    }
   ]
  },
  {
   "cell_type": "code",
   "source": [
    "#Choosing Features: Intensity at each pixel (could also create more sophisticated features by combining sets of features)\n",
    "X, y = df.iloc[:, 1:].values, df['label'].values\n",
    "df['label'].value_counts()"
   ],
   "metadata": {
    "id": "9jemn5ZKEGDh",
    "colab": {
     "base_uri": "https://localhost:8080/"
    },
    "executionInfo": {
     "status": "ok",
     "timestamp": 1650471913471,
     "user_tz": -330,
     "elapsed": 44,
     "user": {
      "displayName": "Bertrand Kwibuka",
      "userId": "03353322417714764277"
     }
    },
    "outputId": "9b419f21-d037-4ffd-a891-2ac204bd0c88"
   },
   "execution_count": null,
   "outputs": [
    {
     "output_type": "execute_result",
     "data": {
      "text/plain": [
       "1    6742\n",
       "7    6265\n",
       "3    6131\n",
       "2    5958\n",
       "9    5949\n",
       "0    5923\n",
       "6    5918\n",
       "8    5851\n",
       "4    5842\n",
       "5    5421\n",
       "Name: label, dtype: int64"
      ]
     },
     "metadata": {},
     "execution_count": 5
    }
   ]
  },
  {
   "cell_type": "code",
   "source": [
    "print(X.shape)\n",
    "print(y.shape)"
   ],
   "metadata": {
    "id": "0PSzSx8yQEK-",
    "colab": {
     "base_uri": "https://localhost:8080/"
    },
    "executionInfo": {
     "status": "ok",
     "timestamp": 1650471913474,
     "user_tz": -330,
     "elapsed": 42,
     "user": {
      "displayName": "Bertrand Kwibuka",
      "userId": "03353322417714764277"
     }
    },
    "outputId": "3bdb4d98-8e65-4c41-9154-243a1a35b51f"
   },
   "execution_count": null,
   "outputs": [
    {
     "output_type": "stream",
     "name": "stdout",
     "text": [
      "(60000, 784)\n",
      "(60000,)\n"
     ]
    }
   ]
  },
  {
   "cell_type": "markdown",
   "source": [
    "## Print some numbers"
   ],
   "metadata": {
    "id": "En5j5sUxCpUv"
   }
  },
  {
   "cell_type": "code",
   "source": [
    "for i in range(0, 10):\n",
    "  print(y[i])\n",
    "  some_digit = X[i]\n",
    "  some_digit_image = some_digit.reshape(28, 28)\n",
    "  plt.imshow(some_digit_image)#, cmap=\"binary\")\n",
    "  plt.axis(\"off\")\n",
    "  plt.show()"
   ],
   "metadata": {
    "id": "d6upbo2Ba1IK",
    "colab": {
     "base_uri": "https://localhost:8080/"
    },
    "executionInfo": {
     "status": "ok",
     "timestamp": 1650471915061,
     "user_tz": -330,
     "elapsed": 1627,
     "user": {
      "displayName": "Bertrand Kwibuka",
      "userId": "03353322417714764277"
     }
    },
    "outputId": "79ebf41e-345e-4ef2-caff-e4cf981052fb"
   },
   "execution_count": null,
   "outputs": [
    {
     "output_type": "stream",
     "name": "stdout",
     "text": [
      "5\n"
     ]
    },
    {
     "output_type": "display_data",
     "data": {
      "text/plain": [
       "<Figure size 432x288 with 1 Axes>"
      ],
      "image/png": "[encoded data removed]"
     },
     "metadata": {
      "needs_background": "light"
     }
    },
    {
     "output_type": "stream",
     "name": "stdout",
     "text": [
      "0\n"
     ]
    },
    {
     "output_type": "display_data",
     "data": {
      "text/plain": [
       "<Figure size 432x288 with 1 Axes>"
      ],
      "image/png": "[encoded data removed]"
     },
     "metadata": {
      "needs_background": "light"
     }
    },
    {
     "output_type": "stream",
     "name": "stdout",
     "text": [
      "4\n"
     ]
    },
    {
     "output_type": "display_data",
     "data": {
      "text/plain": [
       "<Figure size 432x288 with 1 Axes>"
      ],
      "image/png": "[encoded data removed]"
     },
     "metadata": {
      "needs_background": "light"
     }
    },
    {
     "output_type": "stream",
     "name": "stdout",
     "text": [
      "1\n"
     ]
    },
    {
     "output_type": "display_data",
     "data": {
      "text/plain": [
       "<Figure size 432x288 with 1 Axes>"
      ],
      "image/png": "[encoded data removed]"
     },
     "metadata": {
      "needs_background": "light"
     }
    },
    {
     "output_type": "stream",
     "name": "stdout",
     "text": [
      "9\n"
     ]
    },
    {
     "output_type": "display_data",
     "data": {
      "text/plain": [
       "<Figure size 432x288 with 1 Axes>"
      ],
      "image/png": "[encoded data removed]"
     },
     "metadata": {
      "needs_background": "light"
     }
    },
    {
     "output_type": "stream",
     "name": "stdout",
     "text": [
      "2\n"
     ]
    },
    {
     "output_type": "display_data",
     "data": {
      "text/plain": [
       "<Figure size 432x288 with 1 Axes>"
      ],
      "image/png": "[encoded data removed]"
     },
     "metadata": {
      "needs_background": "light"
     }
    },
    {
     "output_type": "stream",
     "name": "stdout",
     "text": [
      "1\n"
     ]
    },
    {
     "output_type": "display_data",
     "data": {
      "text/plain": [
       "<Figure size 432x288 with 1 Axes>"
      ],
      "image/png": "[encoded data removed]"
     },
     "metadata": {
      "needs_background": "light"
     }
    },
    {
     "output_type": "stream",
     "name": "stdout",
     "text": [
      "3\n"
     ]
    },
    {
     "output_type": "display_data",
     "data": {
      "text/plain": [
       "<Figure size 432x288 with 1 Axes>"
      ],
      "image/png": "[encoded data removed]"
     },
     "metadata": {
      "needs_background": "light"
     }
    },
    {
     "output_type": "stream",
     "name": "stdout",
     "text": [
      "1\n"
     ]
    },
    {
     "output_type": "display_data",
     "data": {
      "text/plain": [
       "<Figure size 432x288 with 1 Axes>"
      ],
      "image/png": "[encoded data removed]"
     },
     "metadata": {
      "needs_background": "light"
     }
    },
    {
     "output_type": "stream",
     "name": "stdout",
     "text": [
      "4\n"
     ]
    },
    {
     "output_type": "display_data",
     "data": {
      "text/plain": [
       "<Figure size 432x288 with 1 Axes>"
      ],
      "image/png": "[encoded data removed]"
     },
     "metadata": {
      "needs_background": "light"
     }
    }
   ]
  },
  {
   "cell_type": "markdown",
   "source": [
    "# Data Preprocessing"
   ],
   "metadata": {
    "id": "mxzjJOPkCt61"
   }
  },
  {
   "cell_type": "code",
   "source": [
    "#Feature Scaling\n",
    "scaler = StandardScaler()\n",
    "X_scale = scaler.fit_transform(X)"
   ],
   "metadata": {
    "id": "8wI2FcpdO8PE"
   },
   "execution_count": null,
   "outputs": []
  },
  {
   "cell_type": "code",
   "source": [
    "df.head()"
   ],
   "metadata": {
    "colab": {
     "base_uri": "https://localhost:8080/"
    },
    "id": "1Abc8jfOk6n8",
    "executionInfo": {
     "status": "ok",
     "timestamp": 1650471922595,
     "user_tz": -330,
     "elapsed": 21,
     "user": {
      "displayName": "Bertrand Kwibuka",
      "userId": "03353322417714764277"
     }
    },
    "outputId": "81b32420-500e-4b82-eecb-bbd8fce446b0"
   },
   "execution_count": null,
   "outputs": [
    {
     "output_type": "execute_result",
     "data": {
      "text/plain": [
       "   label  1x1  1x2  1x3  1x4  1x5  1x6  1x7  1x8  1x9  ...  28x19  28x20  \\\n",
       "0      5    0    0    0    0    0    0    0    0    0  ...      0      0   \n",
       "1      0    0    0    0    0    0    0    0    0    0  ...      0      0   \n",
       "2      4    0    0    0    0    0    0    0    0    0  ...      0      0   \n",
       "3      1    0    0    0    0    0    0    0    0    0  ...      0      0   \n",
       "4      9    0    0    0    0    0    0    0    0    0  ...      0      0   \n",
       "\n",
       "   28x21  28x22  28x23  28x24  28x25  28x26  28x27  28x28  \n",
       "0      0      0      0      0      0      0      0      0  \n",
       "1      0      0      0      0      0      0      0      0  \n",
       "2      0      0      0      0      0      0      0      0  \n",
       "3      0      0      0      0      0      0      0      0  \n",
       "4      0      0      0      0      0      0      0      0  \n",
       "\n",
       "[5 rows x 785 columns]"
      ],
      "text/html": [
       "\n",
       "  <div id=\"df-92eda946-cb94-4f48-b53c-6344a476f6b2\">\n",
       "    <div class=\"colab-df-container\">\n",
       "      <div>\n",
       "<style scoped>\n",
       "    .dataframe tbody tr th:only-of-type {\n",
       "        vertical-align: middle;\n",
       "    }\n",
       "\n",
       "    .dataframe tbody tr th {\n",
       "        vertical-align: top;\n",
       "    }\n",
       "\n",
       "    .dataframe thead th {\n",
       "        text-align: right;\n",
       "    }\n",
       "</style>\n",
       "<table border=\"1\" class=\"dataframe\">\n",
       "  <thead>\n",
       "    <tr style=\"text-align: right;\">\n",
       "      <th></th>\n",
       "      <th>label</th>\n",
       "      <th>1x1</th>\n",
       "      <th>1x2</th>\n",
       "      <th>1x3</th>\n",
       "      <th>1x4</th>\n",
       "      <th>1x5</th>\n",
       "      <th>1x6</th>\n",
       "      <th>1x7</th>\n",
       "      <th>1x8</th>\n",
       "      <th>1x9</th>\n",
       "      <th>...</th>\n",
       "      <th>28x19</th>\n",
       "      <th>28x20</th>\n",
       "      <th>28x21</th>\n",
       "      <th>28x22</th>\n",
       "      <th>28x23</th>\n",
       "      <th>28x24</th>\n",
       "      <th>28x25</th>\n",
       "      <th>28x26</th>\n",
       "      <th>28x27</th>\n",
       "      <th>28x28</th>\n",
       "    </tr>\n",
       "  </thead>\n",
       "  <tbody>\n",
       "    <tr>\n",
       "      <th>0</th>\n",
       "      <td>5</td>\n",
       "      <td>0</td>\n",
       "      <td>0</td>\n",
       "      <td>0</td>\n",
       "      <td>0</td>\n",
       "      <td>0</td>\n",
       "      <td>0</td>\n",
       "      <td>0</td>\n",
       "      <td>0</td>\n",
       "      <td>0</td>\n",
       "      <td>...</td>\n",
       "      <td>0</td>\n",
       "      <td>0</td>\n",
       "      <td>0</td>\n",
       "      <td>0</td>\n",
       "      <td>0</td>\n",
       "      <td>0</td>\n",
       "      <td>0</td>\n",
       "      <td>0</td>\n",
       "      <td>0</td>\n",
       "      <td>0</td>\n",
       "    </tr>\n",
       "    <tr>\n",
       "      <th>1</th>\n",
       "      <td>0</td>\n",
       "      <td>0</td>\n",
       "      <td>0</td>\n",
       "      <td>0</td>\n",
       "      <td>0</td>\n",
       "      <td>0</td>\n",
       "      <td>0</td>\n",
       "      <td>0</td>\n",
       "      <td>0</td>\n",
       "      <td>0</td>\n",
       "      <td>...</td>\n",
       "      <td>0</td>\n",
       "      <td>0</td>\n",
       "      <td>0</td>\n",
       "      <td>0</td>\n",
       "      <td>0</td>\n",
       "      <td>0</td>\n",
       "      <td>0</td>\n",
       "      <td>0</td>\n",
       "      <td>0</td>\n",
       "      <td>0</td>\n",
       "    </tr>\n",
       "    <tr>\n",
       "      <th>2</th>\n",
       "      <td>4</td>\n",
       "      <td>0</td>\n",
       "      <td>0</td>\n",
       "      <td>0</td>\n",
       "      <td>0</td>\n",
       "      <td>0</td>\n",
       "      <td>0</td>\n",
       "      <td>0</td>\n",
       "      <td>0</td>\n",
       "      <td>0</td>\n",
       "      <td>...</td>\n",
       "      <td>0</td>\n",
       "      <td>0</td>\n",
       "      <td>0</td>\n",
       "      <td>0</td>\n",
       "      <td>0</td>\n",
       "      <td>0</td>\n",
       "      <td>0</td>\n",
       "      <td>0</td>\n",
       "      <td>0</td>\n",
       "      <td>0</td>\n",
       "    </tr>\n",
       "    <tr>\n",
       "      <th>3</th>\n",
       "      <td>1</td>\n",
       "      <td>0</td>\n",
       "      <td>0</td>\n",
       "      <td>0</td>\n",
       "      <td>0</td>\n",
       "      <td>0</td>\n",
       "      <td>0</td>\n",
       "      <td>0</td>\n",
       "      <td>0</td>\n",
       "      <td>0</td>\n",
       "      <td>...</td>\n",
       "      <td>0</td>\n",
       "      <td>0</td>\n",
       "      <td>0</td>\n",
       "      <td>0</td>\n",
       "      <td>0</td>\n",
       "      <td>0</td>\n",
       "      <td>0</td>\n",
       "      <td>0</td>\n",
       "      <td>0</td>\n",
       "      <td>0</td>\n",
       "    </tr>\n",
       "    <tr>\n",
       "      <th>4</th>\n",
       "      <td>9</td>\n",
       "      <td>0</td>\n",
       "      <td>0</td>\n",
       "      <td>0</td>\n",
       "      <td>0</td>\n",
       "      <td>0</td>\n",
       "      <td>0</td>\n",
       "      <td>0</td>\n",
       "      <td>0</td>\n",
       "      <td>0</td>\n",
       "      <td>...</td>\n",
       "      <td>0</td>\n",
       "      <td>0</td>\n",
       "      <td>0</td>\n",
       "      <td>0</td>\n",
       "      <td>0</td>\n",
       "      <td>0</td>\n",
       "      <td>0</td>\n",
       "      <td>0</td>\n",
       "      <td>0</td>\n",
       "      <td>0</td>\n",
       "    </tr>\n",
       "  </tbody>\n",
       "</table>\n",
       "<p>5 rows × 785 columns</p>\n",
       "</div>\n",
       "      <button class=\"colab-df-convert\" onclick=\"convertToInteractive('df-92eda946-cb94-4f48-b53c-6344a476f6b2')\"\n",
       "              title=\"Convert this dataframe to an interactive table.\"\n",
       "              style=\"display:none;\">\n",
       "        \n",
       "  <svg xmlns=\"http://www.w3.org/2000/svg\" height=\"24px\"viewBox=\"0 0 24 24\"\n",
       "       width=\"24px\">\n",
       "    <path d=\"M0 0h24v24H0V0z\" fill=\"none\"/>\n",
       "    <path d=\"M18.56 5.44l.94 2.06.94-2.06 2.06-.94-2.06-.94-.94-2.06-.94 2.06-2.06.94zm-11 1L8.5 8.5l.94-2.06 2.06-.94-2.06-.94L8.5 2.5l-.94 2.06-2.06.94zm10 10l.94 2.06.94-2.06 2.06-.94-2.06-.94-.94-2.06-.94 2.06-2.06.94z\"/><path d=\"M17.41 7.96l-1.37-1.37c-.4-.4-.92-.59-1.43-.59-.52 0-1.04.2-1.43.59L10.3 9.45l-7.72 7.72c-.78.78-.78 2.05 0 2.83L4 21.41c.39.39.9.59 1.41.59.51 0 1.02-.2 1.41-.59l7.78-7.78 2.81-2.81c.8-.78.8-2.07 0-2.86zM5.41 20L4 18.59l7.72-7.72 1.47 1.35L5.41 20z\"/>\n",
       "  </svg>\n",
       "      </button>\n",
       "      \n",
       "  <style>\n",
       "    .colab-df-container {\n",
       "      display:flex;\n",
       "      flex-wrap:wrap;\n",
       "      gap: 12px;\n",
       "    }\n",
       "\n",
       "    .colab-df-convert {\n",
       "      background-color: #E8F0FE;\n",
       "      border: none;\n",
       "      border-radius: 50%;\n",
       "      cursor: pointer;\n",
       "      display: none;\n",
       "      fill: #1967D2;\n",
       "      height: 32px;\n",
       "      padding: 0 0 0 0;\n",
       "      width: 32px;\n",
       "    }\n",
       "\n",
       "    .colab-df-convert:hover {\n",
       "      background-color: #E2EBFA;\n",
       "      box-shadow: 0px 1px 2px rgba(60, 64, 67, 0.3), 0px 1px 3px 1px rgba(60, 64, 67, 0.15);\n",
       "      fill: #174EA6;\n",
       "    }\n",
       "\n",
       "    [theme=dark] .colab-df-convert {\n",
       "      background-color: #3B4455;\n",
       "      fill: #D2E3FC;\n",
       "    }\n",
       "\n",
       "    [theme=dark] .colab-df-convert:hover {\n",
       "      background-color: #434B5C;\n",
       "      box-shadow: 0px 1px 3px 1px rgba(0, 0, 0, 0.15);\n",
       "      filter: drop-shadow(0px 1px 2px rgba(0, 0, 0, 0.3));\n",
       "      fill: #FFFFFF;\n",
       "    }\n",
       "  </style>\n",
       "\n",
       "      <script>\n",
       "        const buttonEl =\n",
       "          document.querySelector('#df-92eda946-cb94-4f48-b53c-6344a476f6b2 button.colab-df-convert');\n",
       "        buttonEl.style.display =\n",
       "          google.colab.kernel.accessAllowed ? 'block' : 'none';\n",
       "\n",
       "        async function convertToInteractive(key) {\n",
       "          const element = document.querySelector('#df-92eda946-cb94-4f48-b53c-6344a476f6b2');\n",
       "          const dataTable =\n",
       "            await google.colab.kernel.invokeFunction('convertToInteractive',\n",
       "                                                     [key], {});\n",
       "          if (!dataTable) return;\n",
       "\n",
       "          const docLinkHtml = 'Like what you see? Visit the ' +\n",
       "            '<a target=\"_blank\" href=https://colab.research.google.com/notebooks/data_table.ipynb>data table notebook</a>'\n",
       "            + ' to learn more about interactive tables.';\n",
       "          element.innerHTML = '';\n",
       "          dataTable['output_type'] = 'display_data';\n",
       "          await google.colab.output.renderOutput(dataTable, element);\n",
       "          const docLink = document.createElement('div');\n",
       "          docLink.innerHTML = docLinkHtml;\n",
       "          element.appendChild(docLink);\n",
       "        }\n",
       "      </script>\n",
       "    </div>\n",
       "  </div>\n",
       "  "
      ]
     },
     "metadata": {},
     "execution_count": 9
    }
   ]
  },
  {
   "cell_type": "code",
   "source": [
    "print(X_scale.shape)\n",
    "print(y.shape)"
   ],
   "metadata": {
    "id": "Q5rg3idgqBnI",
    "executionInfo": {
     "status": "ok",
     "timestamp": 1650471922596,
     "user_tz": -330,
     "elapsed": 20,
     "user": {
      "displayName": "Bertrand Kwibuka",
      "userId": "03353322417714764277"
     }
    },
    "colab": {
     "base_uri": "https://localhost:8080/"
    },
    "outputId": "636c956f-846f-4e68-8893-9f005734604e"
   },
   "execution_count": null,
   "outputs": [
    {
     "output_type": "stream",
     "name": "stdout",
     "text": [
      "(60000, 784)\n",
      "(60000,)\n"
     ]
    }
   ]
  },
  {
   "cell_type": "code",
   "source": [
    "#Training-validation Split\n",
    "X_train, X_val, y_train, y_val = train_test_split(X_scale, y, train_size=.5, test_size=.5, stratify=y)"
   ],
   "metadata": {
    "id": "RBKqx_NneHv8"
   },
   "execution_count": null,
   "outputs": []
  },
  {
   "cell_type": "code",
   "source": [
    "len(X_train)\n",
    "len(y_train)"
   ],
   "metadata": {
    "id": "LP0njUt9eURz",
    "colab": {
     "base_uri": "https://localhost:8080/"
    },
    "executionInfo": {
     "status": "ok",
     "timestamp": 1650471923921,
     "user_tz": -330,
     "elapsed": 11,
     "user": {
      "displayName": "Bertrand Kwibuka",
      "userId": "03353322417714764277"
     }
    },
    "outputId": "dd787cb1-53b9-4bf2-97a8-438113d3b93d"
   },
   "execution_count": null,
   "outputs": [
    {
     "output_type": "execute_result",
     "data": {
      "text/plain": [
       "30000"
      ]
     },
     "metadata": {},
     "execution_count": 12
    }
   ]
  },
  {
   "cell_type": "code",
   "source": [
    "print(X_train.shape)\n",
    "print(y_train.shape)"
   ],
   "metadata": {
    "colab": {
     "base_uri": "https://localhost:8080/"
    },
    "id": "F2cXuaBg5JKt",
    "executionInfo": {
     "status": "ok",
     "timestamp": 1650471923922,
     "user_tz": -330,
     "elapsed": 10,
     "user": {
      "displayName": "Bertrand Kwibuka",
      "userId": "03353322417714764277"
     }
    },
    "outputId": "fd4449a1-9296-4228-a5ec-707948f2b921"
   },
   "execution_count": null,
   "outputs": [
    {
     "output_type": "stream",
     "name": "stdout",
     "text": [
      "(30000, 784)\n",
      "(30000,)\n"
     ]
    }
   ]
  },
  {
   "cell_type": "markdown",
   "source": [
    "# Running the linear features model without regularisation "
   ],
   "metadata": {
    "id": "gY5zUhwfCz3Z"
   }
  },
  {
   "cell_type": "code",
   "source": [
    "t0 = time.time()\n",
    "\n",
    "#Estimating (C is the inverse of regularization strength, i.e. higher the C is less will be regularization); l2 penalty is default\n",
    "lr = LogisticRegression(n_jobs = -1, solver=\"saga\", tol = .01, max_iter = 1000, C = 10).fit(X_train, y_train)\n",
    "\n",
    "#Estimating Sparse Coefficients\n",
    "# lr = LogisticRegression(n_jobs = -1, solver=\"saga\", tol = .01, max_iter = 1000, penalty = 'l1', C = 1).fit(X_train, y_train)\n",
    "\n",
    "t1 = time.time()\n",
    "\n",
    "print('Training Time: ', t1 - t0)"
   ],
   "metadata": {
    "id": "uPiRrLjwGFyQ",
    "colab": {
     "base_uri": "https://localhost:8080/"
    },
    "executionInfo": {
     "status": "ok",
     "timestamp": 1650472024732,
     "user_tz": -330,
     "elapsed": 64532,
     "user": {
      "displayName": "Bertrand Kwibuka",
      "userId": "03353322417714764277"
     }
    },
    "outputId": "358cd4c5-7e66-4de4-c336-12ece6746e44"
   },
   "execution_count": null,
   "outputs": [
    {
     "output_type": "stream",
     "name": "stdout",
     "text": [
      "Training Time:  63.838990211486816\n"
     ]
    }
   ]
  },
  {
   "cell_type": "markdown",
   "source": [
    "# Obtaining Predictions and Evaluation on Validation Set\n",
    "(You can manually tune the regularization parameter based on this)"
   ],
   "metadata": {
    "id": "LeJSzmPZC4Zh"
   }
  },
  {
   "cell_type": "code",
   "source": [
    "print('Training accuracy: ', lr.score(X_train, y_train))\n",
    "print('Validation accuracy: ', lr.score(X_val, y_val))\n",
    "\n",
    "#We can also manually examine incorrect examples to identify the kind of errors the algorithm is making\n",
    "#to improve accuracy do we need to collect more data or find better algorithms? can be figured out by plotting learning curve"
   ],
   "metadata": {
    "id": "hKqfqKt0DT34",
    "colab": {
     "base_uri": "https://localhost:8080/"
    },
    "executionInfo": {
     "status": "ok",
     "timestamp": 1650472059487,
     "user_tz": -330,
     "elapsed": 792,
     "user": {
      "displayName": "Bertrand Kwibuka",
      "userId": "03353322417714764277"
     }
    },
    "outputId": "0e8c0c76-f1c0-41f9-fe20-2d659f50a5ef"
   },
   "execution_count": null,
   "outputs": [
    {
     "output_type": "stream",
     "name": "stdout",
     "text": [
      "Training accuracy:  0.9135333333333333\n",
      "Validation accuracy:  0.9047666666666667\n"
     ]
    }
   ]
  },
  {
   "cell_type": "code",
   "source": [
    "from sklearn.metrics import confusion_matrix, classification_report\n",
    "\n",
    "y_val_predict = lr.predict(X_val)\n",
    "\n",
    "#Predicting probabilities:\n",
    "y_val_predict_p = lr.predict_proba(X_val)\n",
    "\n",
    "print(classification_report(y_val, y_val_predict))"
   ],
   "metadata": {
    "id": "FNFoXgpjWWJB",
    "colab": {
     "base_uri": "https://localhost:8080/"
    },
    "executionInfo": {
     "status": "ok",
     "timestamp": 1650472059487,
     "user_tz": -330,
     "elapsed": 18,
     "user": {
      "displayName": "Bertrand Kwibuka",
      "userId": "03353322417714764277"
     }
    },
    "outputId": "1264a11c-2016-49ee-aeec-937ce00dd05a"
   },
   "execution_count": null,
   "outputs": [
    {
     "output_type": "stream",
     "name": "stdout",
     "text": [
      "              precision    recall  f1-score   support\n",
      "\n",
      "           0       0.94      0.96      0.95      2962\n",
      "           1       0.91      0.97      0.94      3371\n",
      "           2       0.91      0.86      0.89      2979\n",
      "           3       0.90      0.86      0.88      3066\n",
      "           4       0.89      0.93      0.91      2921\n",
      "           5       0.88      0.86      0.87      2711\n",
      "           6       0.93      0.95      0.94      2959\n",
      "           7       0.92      0.92      0.92      3132\n",
      "           8       0.88      0.83      0.86      2925\n",
      "           9       0.88      0.89      0.88      2974\n",
      "\n",
      "    accuracy                           0.90     30000\n",
      "   macro avg       0.90      0.90      0.90     30000\n",
      "weighted avg       0.90      0.90      0.90     30000\n"
     ]
    }
   ]
  },
  {
   "cell_type": "code",
   "source": [
    "print(confusion_matrix(y_val, y_val_predict))"
   ],
   "metadata": {
    "id": "NGkgow17kp0I",
    "colab": {
     "base_uri": "https://localhost:8080/"
    },
    "executionInfo": {
     "status": "ok",
     "timestamp": 1650472059488,
     "user_tz": -330,
     "elapsed": 17,
     "user": {
      "displayName": "Bertrand Kwibuka",
      "userId": "03353322417714764277"
     }
    },
    "outputId": "7c407821-3690-4581-c48d-bfd7a536edbd"
   },
   "execution_count": null,
   "outputs": [
    {
     "output_type": "stream",
     "name": "stdout",
     "text": [
      "[[2858    4   15    6    7   23   27    6   13    3]\n",
      " [   0 3268   21    5    2   13    3    8   45    6]\n",
      " [  33   52 2573   44   57    6   53   55   88   18]\n",
      " [  20   32   80 2637    8  129   16   47   59   38]\n",
      " [   3   22   12    4 2707    3   20   10   17  123]\n",
      " [  46   29   18   85   37 2327   60   19   64   26]\n",
      " [  25   18   26    0   25   37 2807    4   17    0]\n",
      " [   9   37   29   12   43    4    1 2890    1  106]\n",
      " [  24  120   37   98   28   87   28   12 2440   51]\n",
      " [  21   15    9   47  112   16    4   94   20 2636]]\n"
     ]
    }
   ]
  },
  {
   "cell_type": "code",
   "source": [
    "#More Beautiful Confusion Matrix using seaborn\n",
    "import seaborn as sns\n",
    "\n",
    "plt.figure(figsize=(12,12))\n",
    "sns.heatmap(confusion_matrix(y_val, y_val_predict), annot=True, \n",
    "            linewidths=.5, square = True, cmap = 'Blues_r', fmt='0.4g');\n",
    "\n",
    "plt.ylabel('Actual label')\n",
    "plt.xlabel('Predicted label')\n",
    "all_sample_title = 'Accuracy Score: {0}'.format(lr.score(X_val, y_val))\n",
    "plt.title(all_sample_title);"
   ],
   "metadata": {
    "id": "DDr5S3KzvxNr",
    "colab": {
     "base_uri": "https://localhost:8080/",
     "height": 689
    },
    "executionInfo": {
     "status": "ok",
     "timestamp": 1650472060650,
     "user_tz": -330,
     "elapsed": 1175,
     "user": {
      "displayName": "Bertrand Kwibuka",
      "userId": "03353322417714764277"
     }
    },
    "outputId": "d89e63d8-32ba-4b46-9ff0-1fdc99c40672"
   },
   "execution_count": null,
   "outputs": [
    {
     "output_type": "display_data",
     "data": {
      "text/plain": [
       "<Figure size 864x864 with 2 Axes>"
      ],
      "image/png": "[encoded data removed]"
     },
     "metadata": {
      "needs_background": "light"
     }
    }
   ]
  },
  {
   "cell_type": "markdown",
   "source": [
    "# Examining Coefficients and what the model learns"
   ],
   "metadata": {
    "id": "4whaOhOqDh5D"
   }
  },
  {
   "cell_type": "code",
   "source": [
    "print(lr.coef_.shape)\n",
    "print(lr.coef_[0])"
   ],
   "metadata": {
    "id": "u8fINafLo8E-",
    "colab": {
     "base_uri": "https://localhost:8080/"
    },
    "executionInfo": {
     "status": "ok",
     "timestamp": 1650472145047,
     "user_tz": -330,
     "elapsed": 646,
     "user": {
      "displayName": "Bertrand Kwibuka",
      "userId": "03353322417714764277"
     }
    },
    "outputId": "694edc7b-e6ae-4427-9523-c6a64abf1a2a"
   },
   "execution_count": null,
   "outputs": [
    {
     "output_type": "stream",
     "name": "stdout",
     "text": [
      "(10, 784)\n",
      "[ 0.00000000e+00  0.00000000e+00  0.00000000e+00  0.00000000e+00\n",
      "  0.00000000e+00  0.00000000e+00  0.00000000e+00  0.00000000e+00\n",
      "  0.00000000e+00  0.00000000e+00  0.00000000e+00  0.00000000e+00\n",
      "  2.01168891e-04 -3.16970624e-05 -3.18669431e-04 -3.18669431e-04\n",
      "  0.00000000e+00  0.00000000e+00  0.00000000e+00  0.00000000e+00\n",
      "  0.00000000e+00  0.00000000e+00  0.00000000e+00  0.00000000e+00\n",
      "  0.00000000e+00  0.00000000e+00  0.00000000e+00  0.00000000e+00\n",
      "  0.00000000e+00  0.00000000e+00  0.00000000e+00  0.00000000e+00\n",
      "  2.29386228e-04  2.64625389e-04  1.59500880e-04  3.47715217e-04\n",
      "  1.67739608e-04 -7.32995033e-04 -7.59522998e-04  7.83582955e-03\n",
      "  1.58837600e-02  7.20551042e-03 -4.70954264e-04  6.08631653e-03\n",
      "  1.86468418e-02  1.02304741e-02 -1.70190204e-04  4.05506085e-04\n",
      "  4.12391399e-04  1.61741204e-06  2.63139930e-04  2.46140014e-04\n",
      "  0.00000000e+00  0.00000000e+00  0.00000000e+00  0.00000000e+00\n",
      "  0.00000000e+00  0.00000000e+00 -7.87208549e-04 -3.30114392e-04\n",
      " -9.14618964e-04 -8.12259509e-04 -2.85926884e-03 -1.41363523e-03\n",
      " -2.17754875e-03 -4.38224716e-03 -4.58270829e-03 -2.44738567e-03\n",
      " -1.54946923e-03 -6.37171537e-03 -9.57743525e-03 -1.07735829e-02\n",
      " -9.66317097e-03 -8.06702916e-03 -6.42766880e-03 -4.57640077e-03\n",
      " -3.14980984e-03 -1.68321502e-03 -1.71950705e-03 -1.07987803e-03\n",
      " -6.98020511e-04 -8.71075151e-05  0.00000000e+00  0.00000000e+00\n",
      "  0.00000000e+00  0.00000000e+00 -6.81591309e-04 -8.19546759e-04\n",
      " -2.18857575e-04 -4.36567569e-04 -3.62922882e-03 -4.77429410e-03\n",
      " -3.39264694e-03 -8.05984976e-03 -5.89870250e-03 -5.94584200e-03\n",
      " -1.02146891e-02 -4.55436145e-03 -6.11038658e-03 -1.60645619e-02\n",
      " -1.73082001e-02 -1.16739392e-02 -2.13782380e-02 -2.06578652e-02\n",
      " -1.03722788e-02 -1.26845291e-02 -1.30014492e-02 -1.09873834e-03\n",
      "  5.07129649e-03  8.81304777e-03  2.96878750e-04  0.00000000e+00\n",
      "  0.00000000e+00  1.85955888e-04  3.21335911e-04  1.75926130e-03\n",
      " -4.43144937e-03 -8.25533304e-03 -3.66808994e-03 -1.68931301e-04\n",
      " -6.39300052e-03 -4.87914018e-03 -7.89198091e-03 -8.77953218e-03\n",
      " -4.44569266e-03  2.80705210e-03  4.82840773e-03  1.02352632e-02\n",
      "  1.62511936e-03 -4.63785774e-04 -8.28170634e-03 -6.77600053e-03\n",
      " -3.52655877e-03 -1.91139846e-03 -3.23564525e-03 -4.19064921e-04\n",
      " -1.58551019e-02 -1.20132755e-02 -7.45281636e-04 -5.08846936e-04\n",
      "  0.00000000e+00  0.00000000e+00  5.27376452e-04  6.85444341e-04\n",
      " -5.05328726e-03 -8.55991175e-03 -2.91956152e-03 -8.23547112e-03\n",
      " -1.23403975e-02 -1.19524602e-02 -8.92894850e-03 -8.79406432e-03\n",
      " -2.90113626e-03  1.61661236e-02  2.80019375e-02  3.33720578e-02\n",
      "  3.55658745e-02  2.96724271e-02  1.91140072e-02  1.39393154e-02\n",
      "  5.13018904e-03  7.79072954e-03  5.16563139e-03 -5.78196654e-03\n",
      " -1.25467618e-02 -1.15356848e-02 -4.35264187e-03 -2.41269690e-03\n",
      "  0.00000000e+00  3.12972707e-04 -7.54573913e-04 -1.02193792e-04\n",
      " -4.69094282e-03 -8.83396268e-03 -5.32882886e-03 -1.11845974e-02\n",
      " -1.71345902e-02 -1.80965765e-02 -1.23033298e-02 -7.17522974e-03\n",
      "  2.43972938e-03  1.40955164e-02  2.47710473e-02  3.56299292e-02\n",
      "  4.62040599e-02  4.37748633e-02  3.12320482e-02  1.63639337e-02\n",
      "  5.34791683e-03  1.22344936e-02  2.29990906e-02  9.90569819e-04\n",
      " -1.44900693e-02 -1.32518006e-02 -5.29038671e-03  8.25831422e-04\n",
      "  2.29386228e-04 -2.21403968e-04 -1.60029990e-03 -3.42949887e-04\n",
      " -5.68883419e-03 -7.58793916e-03 -5.14983948e-03 -1.38369955e-02\n",
      " -2.29577339e-02 -1.13225923e-02 -7.40772203e-03 -2.86358133e-03\n",
      "  3.32623285e-04  1.11919029e-02  2.54172274e-02  4.37079071e-02\n",
      "  4.98602249e-02  6.03322714e-02  4.96948461e-02  2.81792486e-02\n",
      "  8.87804744e-03  2.14209833e-03  1.69742738e-02  2.22017814e-02\n",
      "  2.38246124e-03 -1.45893728e-02 -6.18250760e-03  7.00322915e-03\n",
      "  2.95177612e-02 -6.36806026e-04  1.92892596e-04  1.52934450e-03\n",
      " -6.62964722e-03 -8.59578817e-03 -4.17940693e-03 -1.54234862e-02\n",
      " -1.62065596e-02 -7.35178507e-03 -5.28230148e-03 -6.27046331e-03\n",
      "  5.32699517e-03  1.61789362e-02  3.11036876e-02  4.52469400e-02\n",
      "  6.07999116e-02  6.24559303e-02  5.86244680e-02  4.39672819e-02\n",
      "  2.64661874e-02  5.33598266e-03  1.04665314e-02  2.63635293e-02\n",
      "  8.91935601e-03 -1.69683171e-02 -7.57491132e-03 -1.55377135e-03\n",
      "  3.31826951e-04 -2.66855456e-05  8.64838548e-04  2.00926498e-03\n",
      " -4.87198056e-03 -1.00658927e-02 -1.27994340e-02 -1.58198616e-02\n",
      " -1.10456731e-02 -2.06928409e-03  2.27473115e-03  5.23610369e-03\n",
      "  2.16650251e-02  3.56653480e-02  3.22323207e-02  2.87233200e-02\n",
      "  3.96236724e-02  5.31258096e-02  6.08325296e-02  5.59537476e-02\n",
      "  3.59416370e-02  1.29709450e-02  1.22363858e-02  3.21298223e-02\n",
      "  2.39908752e-02 -1.87077028e-02 -1.14586403e-02 -1.65454327e-03\n",
      "  3.24359221e-04  6.96919677e-04  1.12629291e-03 -3.80563535e-03\n",
      " -4.90516447e-03 -6.81420623e-03 -1.54599180e-02 -6.64612871e-03\n",
      " -2.85649032e-03  4.33295768e-03  3.67511240e-03  2.43905644e-02\n",
      "  2.94982005e-02  1.98327780e-02  4.32543737e-03 -1.12258583e-02\n",
      " -3.17904058e-03  2.28378872e-02  4.21316354e-02  4.95701463e-02\n",
      "  4.22131650e-02  2.93911922e-02  3.38098724e-02  4.50197947e-02\n",
      "  2.71010764e-02 -1.87377521e-02 -9.59547813e-03 -7.73946681e-04\n",
      "  3.96412256e-04  7.01040117e-04  3.78630952e-04 -7.02405184e-04\n",
      " -9.97427230e-03 -1.48546104e-02 -4.80319656e-03  2.44378890e-03\n",
      "  1.21877111e-03 -2.67555415e-03  1.22954883e-02  2.75647890e-02\n",
      "  1.46703341e-02 -1.06656397e-02 -4.42167323e-02 -6.90930840e-02\n",
      " -6.68985247e-02 -3.23967299e-02  3.58903985e-03  3.22633740e-02\n",
      "  3.73785698e-02  4.33920563e-02  4.89731161e-02  5.09957854e-02\n",
      "  3.51765380e-02 -1.91420551e-02 -7.62439398e-03 -3.55349009e-04\n",
      "  2.98037990e-04  2.92563272e-04 -8.94758715e-04 -1.25717781e-03\n",
      " -1.86806834e-02 -4.64281705e-03  1.30905695e-02  9.88223094e-03\n",
      "  3.05525340e-03  8.33977944e-03  2.67275884e-02  2.60791032e-02\n",
      " -3.42435934e-03 -4.78759836e-02 -8.63418829e-02 -1.06309780e-01\n",
      " -1.05493234e-01 -6.99915686e-02 -2.97845913e-02  6.22831496e-03\n",
      "  2.63682067e-02  4.16765927e-02  6.12347233e-02  6.30223096e-02\n",
      "  4.69696831e-02 -2.98654214e-03 -1.21198792e-02 -4.64164664e-04\n",
      "  2.29386228e-04  2.25576074e-04  5.92351078e-04  7.33420945e-03\n",
      " -1.43780832e-02  6.92562423e-03  2.05034341e-02  2.53826290e-02\n",
      "  2.11456141e-02  3.34386963e-02  3.90761813e-02  1.45782942e-02\n",
      " -3.04435868e-02 -8.23780745e-02 -1.03750970e-01 -1.17672082e-01\n",
      " -1.17712920e-01 -8.25582331e-02 -4.54368049e-02 -8.75603733e-03\n",
      "  2.30958074e-02  3.78683530e-02  5.79941508e-02  6.19434567e-02\n",
      "  4.52555619e-02  1.44421120e-02 -6.54997299e-03 -4.67416465e-04\n",
      "  2.29386228e-04  2.28501549e-04 -1.41495103e-04 -2.33094273e-03\n",
      " -7.94549909e-03  2.30023680e-02  3.04430153e-02  3.81337111e-02\n",
      "  3.85394249e-02  4.82915095e-02  3.78336934e-02 -8.82270741e-04\n",
      " -5.67552901e-02 -9.62379081e-02 -1.14420069e-01 -1.21379566e-01\n",
      " -1.14368619e-01 -7.48982778e-02 -3.87759168e-02 -8.24973704e-03\n",
      "  2.52638515e-02  3.96223447e-02  4.67874295e-02  5.54174867e-02\n",
      "  4.01855667e-02  9.46977407e-03 -3.31104465e-03 -1.08397224e-04\n",
      "  2.68029887e-04 -3.06602336e-04 -6.57956605e-04 -4.94273779e-03\n",
      "  9.61544952e-04  3.46058377e-02  3.20313646e-02  4.23885773e-02\n",
      "  4.99223229e-02  5.62493677e-02  3.84624460e-02 -1.99192037e-02\n",
      " -7.29340017e-02 -1.07890581e-01 -1.22015377e-01 -1.23499622e-01\n",
      " -1.01184533e-01 -5.83510218e-02 -2.12728102e-02  6.28729480e-03\n",
      "  2.76701504e-02  2.96658196e-02  3.62862233e-02  3.88744241e-02\n",
      "  2.55218259e-02  1.02362664e-03 -3.72960364e-03 -6.00876027e-04\n",
      "  2.29386228e-04 -4.00143829e-05 -1.38685126e-03 -8.91330883e-03\n",
      " -1.66866330e-03  3.38868430e-02  3.33093780e-02  3.95696171e-02\n",
      "  5.95127680e-02  5.54514235e-02  3.60628088e-02 -2.25609528e-02\n",
      " -7.66559834e-02 -1.06102068e-01 -1.16719429e-01 -1.10468832e-01\n",
      " -7.65173311e-02 -3.23995199e-02 -4.60242924e-03  1.62118309e-02\n",
      "  2.48169685e-02  2.52168725e-02  2.46874135e-02  2.27861547e-02\n",
      "  1.00306831e-02 -7.44221124e-03 -3.80130478e-03  2.55854915e-03\n",
      "  0.00000000e+00  3.81115227e-04 -1.42799403e-03 -1.30650649e-02\n",
      " -1.53466791e-03  1.86094855e-02  2.46383058e-02  3.83642648e-02\n",
      "  5.48992816e-02  5.53549319e-02  3.85225257e-02 -1.94137896e-02\n",
      " -6.37213655e-02 -9.32353186e-02 -9.85522548e-02 -7.88608513e-02\n",
      " -3.76064019e-02 -7.89254679e-03  6.29066090e-03  1.71819694e-02\n",
      "  1.80801137e-02  2.00011153e-02  1.83519822e-02  2.72415374e-03\n",
      "  6.68735463e-03  1.42189997e-03 -2.32643679e-04  3.03593706e-02\n",
      " -9.60609935e-04  2.95311029e-04 -1.08451572e-03 -2.15873198e-02\n",
      " -9.58043810e-03  5.68281138e-03  1.71197171e-02  3.59705412e-02\n",
      "  4.99445850e-02  5.85847734e-02  4.58800229e-02 -2.15370052e-03\n",
      " -4.62291398e-02 -6.60753027e-02 -6.12015523e-02 -3.70740530e-02\n",
      " -1.33538558e-02  7.77283044e-04  1.30097197e-02  1.45599039e-02\n",
      "  1.17726406e-02  9.24491603e-03  8.06130658e-03 -3.18845342e-03\n",
      "  4.33379890e-03  3.39257407e-04 -9.77620755e-04 -2.85901443e-03\n",
      "  2.29386228e-04 -1.92615671e-04 -3.83399998e-03 -1.63017499e-02\n",
      " -8.02344187e-03  1.06226263e-03  1.42304794e-02  2.82877399e-02\n",
      "  4.01779846e-02  5.54988311e-02  5.71702662e-02  2.09950362e-02\n",
      " -6.55907642e-03 -1.86343376e-02 -1.06129117e-02 -4.73416195e-03\n",
      "  1.89667502e-03  1.26505682e-02  1.56353135e-02  6.15204295e-03\n",
      "  3.91087413e-03  6.31163075e-03  8.12743332e-03  2.04050638e-03\n",
      "  1.22557310e-03 -2.71043884e-03  3.28586554e-04 -2.90562292e-04\n",
      "  0.00000000e+00 -1.94198591e-05 -3.27916968e-03 -8.12732665e-03\n",
      " -6.33801879e-03  5.79668023e-03  8.65957355e-03  1.80263884e-02\n",
      "  2.56488568e-02  4.71761914e-02  6.48195738e-02  4.81910043e-02\n",
      "  2.89313929e-02  1.66346152e-02  1.21943370e-02  1.75149120e-02\n",
      "  1.55382591e-02  1.86443035e-02  1.29964741e-03 -6.65770299e-03\n",
      " -7.99184692e-04  5.61293583e-03  4.47322640e-03 -2.44024780e-03\n",
      " -9.15728331e-03 -3.38817527e-03  2.00010239e-03  2.43285804e-04\n",
      "  1.78482894e-04 -4.68353122e-04 -5.22560433e-03 -1.75048139e-03\n",
      " -5.47743679e-03  8.39661967e-03  1.31236723e-02  1.74421866e-02\n",
      "  1.17078784e-02  3.20651210e-02  5.80803154e-02  6.08144296e-02\n",
      "  4.13675437e-02  2.80636547e-02  2.81708822e-02  2.13528344e-02\n",
      "  1.11269486e-02 -4.72997252e-03 -1.32087242e-02 -1.19384446e-02\n",
      " -6.73328348e-03 -4.91831927e-03 -2.39753092e-03 -5.64407353e-03\n",
      " -9.22006732e-03  3.07964446e-04  4.45631886e-03  2.29386228e-04\n",
      "  1.78482894e-04 -3.23345905e-04 -1.96471660e-03 -6.89636989e-03\n",
      " -1.10354911e-02  5.25368449e-03  1.64217843e-02  1.51011907e-02\n",
      "  1.89608275e-02  2.40799144e-02  4.15932459e-02  5.67696137e-02\n",
      "  5.58034787e-02  5.26144055e-02  3.84678845e-02  2.41853146e-02\n",
      "  8.53936952e-03 -6.30164289e-03 -9.24184611e-03 -1.08789170e-02\n",
      " -1.40709592e-02 -1.17873707e-02 -1.50555752e-03 -1.88543884e-03\n",
      " -9.71182069e-03  2.47925860e-04  5.28934561e-03  2.29386228e-04\n",
      "  0.00000000e+00  0.00000000e+00  9.94857852e-05 -2.67294957e-03\n",
      " -1.32537657e-02 -5.72225343e-03  4.89304889e-03  1.38161839e-02\n",
      "  1.32913774e-02  2.08669142e-02  2.96174514e-02  4.61247159e-02\n",
      "  5.00364731e-02  4.53421528e-02  3.56949002e-02  1.92651400e-02\n",
      "  2.58795108e-03 -6.18479820e-03 -1.34259007e-02 -2.24016500e-02\n",
      " -1.93215731e-02 -1.32863481e-02 -9.10507801e-03 -7.50477653e-03\n",
      " -7.76023183e-03 -1.00836720e-04 -6.67345432e-05  0.00000000e+00\n",
      "  0.00000000e+00  0.00000000e+00 -1.15012178e-03 -5.88549626e-04\n",
      " -3.42603639e-03 -5.27732136e-03 -1.06434177e-02 -1.04110036e-02\n",
      " -6.69522000e-03 -2.84594657e-03  1.21628355e-03  3.64761630e-03\n",
      "  6.42001178e-03  3.36855610e-03 -1.47289515e-03 -6.53818305e-03\n",
      " -1.40278375e-02 -1.32729514e-02 -1.63469558e-02 -2.15269526e-02\n",
      " -1.91220052e-02 -1.78153667e-02 -1.04996136e-02 -2.38435949e-03\n",
      " -1.56490558e-03 -8.94747054e-05  2.12757896e-04  0.00000000e+00\n",
      "  0.00000000e+00  0.00000000e+00  3.33134291e-04 -3.05005957e-04\n",
      " -2.01805927e-03 -5.31945481e-03 -1.01675353e-02 -1.32687848e-02\n",
      " -1.71006198e-02 -2.07892311e-02 -2.46817581e-02 -2.39984149e-02\n",
      " -2.76723888e-02 -2.50190837e-02 -2.53925590e-02 -2.18578759e-02\n",
      " -1.77997793e-02 -1.51475198e-02 -1.46646651e-02 -1.39627750e-02\n",
      " -1.27417996e-02 -9.82653384e-03 -5.62644731e-03 -2.39094707e-03\n",
      " -4.87718070e-03  2.19355891e-04  2.29386228e-04  0.00000000e+00\n",
      "  0.00000000e+00  0.00000000e+00  0.00000000e+00  2.29386228e-04\n",
      " -2.21110809e-04 -7.08847293e-04 -2.48923776e-03 -2.92342837e-03\n",
      " -5.37174212e-03 -7.12488379e-03 -5.96639154e-03 -4.99284984e-03\n",
      " -4.37035528e-03 -7.64161454e-03 -9.56228138e-03 -8.46770480e-03\n",
      " -5.89852752e-03 -3.69905013e-03 -5.14608375e-03 -2.68401928e-03\n",
      " -2.02858242e-03 -4.05663826e-03 -1.16980273e-03 -1.00424784e-03\n",
      " -1.36291803e-03  8.09902623e-05  0.00000000e+00  0.00000000e+00\n",
      "  0.00000000e+00  0.00000000e+00  0.00000000e+00  0.00000000e+00\n",
      "  3.25334547e-04  3.49694053e-04  4.38846448e-04  3.45087608e-05\n",
      " -6.56168659e-04 -9.73327280e-04  3.86370501e-04  5.42186518e-04\n",
      " -1.64021105e-04 -6.89797903e-04 -1.88437429e-03 -1.86846362e-03\n",
      " -1.46765306e-03 -1.76734132e-04 -2.41380761e-04  2.56961590e-04\n",
      "  5.74493916e-04 -8.39948902e-04 -4.98915232e-04  3.24223738e-04\n",
      "  0.00000000e+00  0.00000000e+00  0.00000000e+00  0.00000000e+00]\n"
     ]
    }
   ]
  },
  {
   "cell_type": "code",
   "source": [
    "for i in range(0, 10):\n",
    "  print(i)\n",
    "  some_digit = lr.coef_[i]\n",
    "  some_digit_image = some_digit.reshape(28, 28)\n",
    "  plt.imshow(some_digit_image)#, cmap=\"binary\")\n",
    "  plt.axis(\"off\")\n",
    "  plt.show()"
   ],
   "metadata": {
    "id": "-rCroKmWk57p",
    "colab": {
     "base_uri": "https://localhost:8080/",
     "height": 1000
    },
    "executionInfo": {
     "status": "ok",
     "timestamp": 1650467496389,
     "user_tz": -330,
     "elapsed": 9,
     "user": {
      "displayName": "Bertrand Kwibuka",
      "userId": "03353322417714764277"
     }
    },
    "outputId": "de2bb7b6-9147-4a73-edd2-d740007e2b84"
   },
   "execution_count": null,
   "outputs": [
    {
     "output_type": "stream",
     "name": "stdout",
     "text": [
      "0\n"
     ]
    },
    {
     "output_type": "display_data",
     "data": {
      "text/plain": [
       "<Figure size 432x288 with 1 Axes>"
      ],
      "image/png": "[encoded data removed]"
     },
     "metadata": {
      "needs_background": "light"
     }
    },
    {
     "output_type": "stream",
     "name": "stdout",
     "text": [
      "1\n"
     ]
    },
    {
     "output_type": "display_data",
     "data": {
      "text/plain": [
       "<Figure size 432x288 with 1 Axes>"
      ],
      "image/png": "[encoded data removed]"
     },
     "metadata": {
      "needs_background": "light"
     }
    },
    {
     "output_type": "stream",
     "name": "stdout",
     "text": [
      "2\n"
     ]
    },
    {
     "output_type": "display_data",
     "data": {
      "text/plain": [
       "<Figure size 432x288 with 1 Axes>"
      ],
      "image/png": "[encoded data removed]"
     },
     "metadata": {
      "needs_background": "light"
     }
    },
    {
     "output_type": "stream",
     "name": "stdout",
     "text": [
      "3\n"
     ]
    },
    {
     "output_type": "display_data",
     "data": {
      "text/plain": [
       "<Figure size 432x288 with 1 Axes>"
      ],
      "image/png": "[encoded data removed]"
     },
     "metadata": {
      "needs_background": "light"
     }
    },
    {
     "output_type": "stream",
     "name": "stdout",
     "text": [
      "4\n"
     ]
    },
    {
     "output_type": "display_data",
     "data": {
      "text/plain": [
       "<Figure size 432x288 with 1 Axes>"
      ],
      "image/png": "[encoded data removed]"
     },
     "metadata": {
      "needs_background": "light"
     }
    },
    {
     "output_type": "stream",
     "name": "stdout",
     "text": [
      "5\n"
     ]
    },
    {
     "output_type": "display_data",
     "data": {
      "text/plain": [
       "<Figure size 432x288 with 1 Axes>"
      ],
      "image/png": "[encoded data removed]"
     },
     "metadata": {
      "needs_background": "light"
     }
    },
    {
     "output_type": "stream",
     "name": "stdout",
     "text": [
      "6\n"
     ]
    },
    {
     "output_type": "display_data",
     "data": {
      "text/plain": [
       "<Figure size 432x288 with 1 Axes>"
      ],
      "image/png": "[encoded data removed]"
     },
     "metadata": {
      "needs_background": "light"
     }
    },
    {
     "output_type": "stream",
     "name": "stdout",
     "text": [
      "7\n"
     ]
    },
    {
     "output_type": "display_data",
     "data": {
      "text/plain": [
       "<Figure size 432x288 with 1 Axes>"
      ],
      "image/png": "[encoded data removed]"
     },
     "metadata": {
      "needs_background": "light"
     }
    },
    {
     "output_type": "stream",
     "name": "stdout",
     "text": [
      "8\n"
     ]
    },
    {
     "output_type": "display_data",
     "data": {
      "text/plain": [
       "<Figure size 432x288 with 1 Axes>"
      ],
      "image/png": "[encoded data removed]"
     },
     "metadata": {
      "needs_background": "light"
     }
    },
    {
     "output_type": "stream",
     "name": "stdout",
     "text": [
      "9\n"
     ]
    },
    {
     "output_type": "display_data",
     "data": {
      "text/plain": [
       "<Figure size 432x288 with 1 Axes>"
      ],
      "image/png": "[encoded data removed]"
     },
     "metadata": {
      "needs_background": "light"
     }
    }
   ]
  },
  {
   "cell_type": "markdown",
   "source": [
    "# Error Analysis"
   ],
   "metadata": {
    "id": "T4HXv024NzLH"
   }
  },
  {
   "cell_type": "code",
   "source": [
    "dt = pd.DataFrame(X_val)\n",
    "dt[\"actual\"] = y_val\n",
    "dt[\"predicted\"] = y_val_predict\n",
    "dt = dt[dt[\"actual\"] != dt[\"predicted\"]]\n",
    "X_err, y_err = dt.iloc[:, :-2].values, dt['actual'].values\n",
    "\n",
    "for i in range(0, 10):\n",
    "  print(y_err[i])\n",
    "  some_digit = X_err[i]\n",
    "  some_digit_image = some_digit.reshape(28, 28)\n",
    "  plt.imshow(some_digit_image)#, cmap=\"binary\")\n",
    "  plt.axis(\"off\")\n",
    "  plt.show()"
   ],
   "metadata": {
    "id": "07rLcZfeN1U7",
    "colab": {
     "base_uri": "https://localhost:8080/"
    },
    "executionInfo": {
     "status": "ok",
     "timestamp": 1650472149247,
     "user_tz": -330,
     "elapsed": 998,
     "user": {
      "displayName": "Bertrand Kwibuka",
      "userId": "03353322417714764277"
     }
    },
    "outputId": "fd0382c5-3a95-413c-8c4b-cb07fe3af7bb"
   },
   "execution_count": null,
   "outputs": [
    {
     "output_type": "stream",
     "name": "stdout",
     "text": [
      "5\n"
     ]
    },
    {
     "output_type": "display_data",
     "data": {
      "text/plain": [
       "<Figure size 432x288 with 1 Axes>"
      ],
      "image/png": "[encoded data removed]"
     },
     "metadata": {
      "needs_background": "light"
     }
    },
    {
     "output_type": "stream",
     "name": "stdout",
     "text": [
      "4\n"
     ]
    },
    {
     "output_type": "display_data",
     "data": {
      "text/plain": [
       "<Figure size 432x288 with 1 Axes>"
      ],
      "image/png": "[encoded data removed]"
     },
     "metadata": {
      "needs_background": "light"
     }
    },
    {
     "output_type": "stream",
     "name": "stdout",
     "text": [
      "3\n"
     ]
    },
    {
     "output_type": "display_data",
     "data": {
      "text/plain": [
       "<Figure size 432x288 with 1 Axes>"
      ],
      "image/png": "[encoded data removed]"
     },
     "metadata": {
      "needs_background": "light"
     }
    },
    {
     "output_type": "stream",
     "name": "stdout",
     "text": [
      "6\n"
     ]
    },
    {
     "output_type": "display_data",
     "data": {
      "text/plain": [
       "<Figure size 432x288 with 1 Axes>"
      ],
      "image/png": "[encoded data removed]"
     },
     "metadata": {
      "needs_background": "light"
     }
    },
    {
     "output_type": "stream",
     "name": "stdout",
     "text": [
      "5\n"
     ]
    },
    {
     "output_type": "display_data",
     "data": {
      "text/plain": [
       "<Figure size 432x288 with 1 Axes>"
      ],
      "image/png": "[encoded data removed]"
     },
     "metadata": {
      "needs_background": "light"
     }
    },
    {
     "output_type": "stream",
     "name": "stdout",
     "text": [
      "3\n"
     ]
    },
    {
     "output_type": "display_data",
     "data": {
      "text/plain": [
       "<Figure size 432x288 with 1 Axes>"
      ],
      "image/png": "[encoded data removed]"
     },
     "metadata": {
      "needs_background": "light"
     }
    },
    {
     "output_type": "stream",
     "name": "stdout",
     "text": [
      "3\n"
     ]
    },
    {
     "output_type": "display_data",
     "data": {
      "text/plain": [
       "<Figure size 432x288 with 1 Axes>"
      ],
      "image/png": "[encoded data removed]"
     },
     "metadata": {
      "needs_background": "light"
     }
    },
    {
     "output_type": "stream",
     "name": "stdout",
     "text": [
      "2\n"
     ]
    },
    {
     "output_type": "display_data",
     "data": {
      "text/plain": [
       "<Figure size 432x288 with 1 Axes>"
      ],
      "image/png": "[encoded data removed]"
     },
     "metadata": {
      "needs_background": "light"
     }
    },
    {
     "output_type": "stream",
     "name": "stdout",
     "text": [
      "2\n"
     ]
    },
    {
     "output_type": "display_data",
     "data": {
      "text/plain": [
       "<Figure size 432x288 with 1 Axes>"
      ],
      "image/png": "[encoded data removed]"
     },
     "metadata": {
      "needs_background": "light"
     }
    },
    {
     "output_type": "stream",
     "name": "stdout",
     "text": [
      "9\n"
     ]
    },
    {
     "output_type": "display_data",
     "data": {
      "text/plain": [
       "<Figure size 432x288 with 1 Axes>"
      ],
      "image/png": "[encoded data removed]"
     },
     "metadata": {
      "needs_background": "light"
     }
    }
   ]
  },
  {
   "cell_type": "markdown",
   "source": [
    "# Learning Curve"
   ],
   "metadata": {
    "id": "vCNPMCeFIP3H"
   }
  },
  {
   "cell_type": "code",
   "source": [
    "lr = LogisticRegression(n_jobs = -1, solver=\"saga\", tol = .01, max_iter = 100)\n",
    "train_sizes, train_scores, valid_scores = learning_curve(lr, X, y, train_sizes=[100, 300, 1000, 3000, 10000, 30000], cv=2)"
   ],
   "metadata": {
    "id": "zhLL733lISZ5"
   },
   "execution_count": null,
   "outputs": []
  },
  {
   "cell_type": "code",
   "source": [
    "train_scores_mean = -train_scores.mean(axis = 1)\n",
    "validation_scores_mean = -valid_scores.mean(axis = 1)"
   ],
   "metadata": {
    "id": "MBAJHLdHLTIh"
   },
   "execution_count": null,
   "outputs": []
  },
  {
   "cell_type": "code",
   "source": [
    "plt.style.use('seaborn')\n",
    "plt.plot(train_sizes, train_scores_mean, label = 'Training error')\n",
    "plt.plot(train_sizes, validation_scores_mean, label = 'Validation error')\n",
    "plt.xlabel('Training set size', fontsize = 14)\n",
    "plt.legend()\n",
    "plt.show()\n",
    "\n",
    "#Does this show high bias (underfitting) or high variance (overfitting)?"
   ],
   "metadata": {
    "id": "-s1d1NJ6JGvI",
    "colab": {
     "base_uri": "https://localhost:8080/",
     "height": 365
    },
    "executionInfo": {
     "status": "ok",
     "timestamp": 1650467726458,
     "user_tz": -330,
     "elapsed": 10,
     "user": {
      "displayName": "Bertrand Kwibuka",
      "userId": "03353322417714764277"
     }
    },
    "outputId": "0f573ccc-e77c-47fc-ccd8-332e7d0978c8"
   },
   "execution_count": null,
   "outputs": [
    {
     "output_type": "display_data",
     "data": {
      "text/plain": [
       "<Figure size 576x396 with 1 Axes>"
      ],
      "image/png": "[encoded data removed]"
     },
     "metadata": {}
    }
   ]
  },
  {
   "cell_type": "code",
   "source": [
    "lr = LogisticRegression(n_jobs = -1, solver=\"saga\", tol = .01, max_iter = 100)\n",
    "train_sizes, train_scores, valid_scores = learning_curve(lr, X, y, train_sizes=[100, 300, 1000, 3000, 10000, 30000], cv=2)"
   ],
   "metadata": {
    "id": "N2-JdxteWvgh"
   },
   "execution_count": null,
   "outputs": []
  },
  {
   "cell_type": "code",
   "source": [
    "train_scores_mean = -train_scores.mean(axis = 1)\n",
    "validation_scores_mean = -valid_scores.mean(axis = 1)"
   ],
   "metadata": {
    "id": "IFVsETiGWvgh"
   },
   "execution_count": null,
   "outputs": []
  },
  {
   "cell_type": "code",
   "source": [
    "plt.style.use('seaborn')\n",
    "plt.plot(train_sizes, train_scores_mean, label = 'Training error')\n",
    "plt.plot(train_sizes, validation_scores_mean, label = 'Validation error')\n",
    "plt.xlabel('Training set size', fontsize = 14)\n",
    "plt.legend()\n",
    "plt.show()\n",
    "\n",
    "#Does this show high bias (underfitting) or high variance (overfitting)?"
   ],
   "metadata": {
    "colab": {
     "base_uri": "https://localhost:8080/",
     "height": 365
    },
    "executionInfo": {
     "status": "ok",
     "timestamp": 1650467930193,
     "user_tz": -330,
     "elapsed": 12,
     "user": {
      "displayName": "Bertrand Kwibuka",
      "userId": "03353322417714764277"
     }
    },
    "outputId": "c6c43d29-5407-4651-bb6d-f71be9db0cdd",
    "id": "7SyRzdR9Wvgh"
   },
   "execution_count": null,
   "outputs": [
    {
     "output_type": "display_data",
     "data": {
      "text/plain": [
       "<Figure size 576x396 with 1 Axes>"
      ],
      "image/png": "[encoded data removed]"
     },
     "metadata": {}
    }
   ]
  },
  {
   "cell_type": "markdown",
   "source": [
    "# Linear features: Grid Search for hyperparameter tuning \n",
    "(it can help in choosing the potimal regularization parameter)"
   ],
   "metadata": {
    "id": "BhMx7ddOEJio"
   }
  },
  {
   "cell_type": "code",
   "source": [
    "#Grid search:\n",
    "from sklearn.model_selection import GridSearchCV"
   ],
   "metadata": {
    "id": "d6bbCsMYo-FJ"
   },
   "execution_count": null,
   "outputs": []
  },
  {
   "cell_type": "code",
   "source": [
    "param_grid = [{'C': [1, 10]},]\n",
    "lr = LogisticRegression(n_jobs = -1, solver=\"saga\", tol = .01, max_iter = 1000)\n",
    "grid_search = GridSearchCV(lr, param_grid, cv = 2, n_jobs = -1)\n",
    "grid_search.fit(X, y)"
   ],
   "metadata": {
    "id": "3PpaeBNl1VGT",
    "colab": {
     "base_uri": "https://localhost:8080/"
    },
    "executionInfo": {
     "status": "ok",
     "timestamp": 1650468283207,
     "user_tz": -330,
     "elapsed": 353023,
     "user": {
      "displayName": "Bertrand Kwibuka",
      "userId": "03353322417714764277"
     }
    },
    "outputId": "06e73d72-f294-4bc0-abc4-a4acc2de6fc1"
   },
   "execution_count": null,
   "outputs": [
    {
     "output_type": "stream",
     "name": "stderr",
     "text": [
      "/usr/local/lib/python3.7/dist-packages/joblib/externals/loky/process_executor.py:705: UserWarning: A worker stopped while some jobs were given to the executor. This can be caused by a too short worker timeout or by a memory leak.\n",
      "  \"timeout or by a memory leak.\", UserWarning\n"
     ]
    },
    {
     "output_type": "execute_result",
     "data": {
      "text/plain": [
       "GridSearchCV(cv=2,\n",
       "             estimator=LogisticRegression(max_iter=1000, n_jobs=-1,\n",
       "                                          solver='saga', tol=0.01),\n",
       "             n_jobs=-1, param_grid=[{'C': [1, 10]}])"
      ]
     },
     "metadata": {},
     "execution_count": 31
    }
   ]
  },
  {
   "cell_type": "code",
   "source": [
    "print(\"Tuned hyperparameter: \", grid_search.best_params_)\n",
    "print(\"Accuracy :\", grid_search.best_score_)"
   ],
   "metadata": {
    "id": "9uWVrkk45f3p",
    "colab": {
     "base_uri": "https://localhost:8080/"
    },
    "executionInfo": {
     "status": "ok",
     "timestamp": 1650468283208,
     "user_tz": -330,
     "elapsed": 17,
     "user": {
      "displayName": "Bertrand Kwibuka",
      "userId": "03353322417714764277"
     }
    },
    "outputId": "fc597f8d-f967-4ecf-9620-8d222ab32a52"
   },
   "execution_count": null,
   "outputs": [
    {
     "output_type": "stream",
     "name": "stdout",
     "text": [
      "Tuned hyperparameter:  {'C': 1}\n",
      "Accuracy : 0.9162\n"
     ]
    }
   ]
  },
  {
   "cell_type": "markdown",
   "source": [
    "# Linear features model with optimal regularisation\n",
    "\n",
    "\n"
   ],
   "metadata": {
    "id": "MYgQolHEeKgw"
   }
  },
  {
   "cell_type": "code",
   "source": [
    "#Finally running the best model\n",
    "#best C: grid_search.best_params_\n",
    "\n",
    "t0 = time.time()\n",
    "\n",
    "lr = LogisticRegression(n_jobs = -1, solver=\"saga\", tol = .01, max_iter = 1000, C = 1).fit(X_train, y_train)\n",
    "\n",
    "t1 = time.time()\n",
    "\n",
    "print('Training Time: ', t1 - t0)"
   ],
   "metadata": {
    "id": "7LjT5Bb-8_K5",
    "executionInfo": {
     "status": "ok",
     "timestamp": 1650472236647,
     "user_tz": -330,
     "elapsed": 52652,
     "user": {
      "displayName": "Bertrand Kwibuka",
      "userId": "03353322417714764277"
     }
    },
    "colab": {
     "base_uri": "https://localhost:8080/"
    },
    "outputId": "c0e35891-01b3-4af7-cf69-5cb5538d81de"
   },
   "execution_count": null,
   "outputs": [
    {
     "output_type": "stream",
     "name": "stdout",
     "text": [
      "Training Time:  51.998380184173584\n"
     ]
    }
   ]
  },
  {
   "cell_type": "markdown",
   "source": [
    "#Evaluation of the model on Test Set"
   ],
   "metadata": {
    "id": "6wFFaqnD7htt"
   }
  },
  {
   "cell_type": "code",
   "source": [
    "file = 'mnist_test.csv'\n",
    "df = pd.read_csv(path+file)\n",
    "X_test, y_test = df.iloc[:, 1:].values, df['label']\n",
    "X_test = scaler.fit_transform(X_test)\n",
    "\n",
    "y_test_pred = lr.predict(X_test)"
   ],
   "metadata": {
    "id": "81lIuaqk7S9r"
   },
   "execution_count": null,
   "outputs": []
  },
  {
   "cell_type": "markdown",
   "source": [
    "Confusion matrix and accuracy"
   ],
   "metadata": {
    "id": "44lcbZyMegJz"
   }
  },
  {
   "cell_type": "code",
   "source": [
    "#Confusion Matrix using Seaborn\n",
    "\n",
    "plt.figure(figsize=(12,12))\n",
    "sns.heatmap(confusion_matrix(y_test, y_test_pred), annot=True, \n",
    "            linewidths=.5, square = True, cmap = 'Blues_r', fmt='0.4g');\n",
    "\n",
    "plt.ylabel('Actual label')\n",
    "plt.xlabel('Predicted label')\n",
    "all_sample_title = 'Accuracy Score: {0}'.format(lr.score(X_test, y_test))\n",
    "plt.title(all_sample_title);"
   ],
   "metadata": {
    "id": "gGvZRpS16ypd",
    "colab": {
     "base_uri": "https://localhost:8080/",
     "height": 689
    },
    "executionInfo": {
     "status": "ok",
     "timestamp": 1650472332232,
     "user_tz": -330,
     "elapsed": 1778,
     "user": {
      "displayName": "Bertrand Kwibuka",
      "userId": "03353322417714764277"
     }
    },
    "outputId": "98a6272e-d1dc-472b-f0ab-f7e103b7371c"
   },
   "execution_count": null,
   "outputs": [
    {
     "output_type": "display_data",
     "data": {
      "text/plain": [
       "<Figure size 864x864 with 2 Axes>"
      ],
      "image/png": "[encoded data removed]"
     },
     "metadata": {
      "needs_background": "light"
     }
    }
   ]
  },
  {
   "cell_type": "markdown",
   "source": [
    "Evaluation matrix: "
   ],
   "metadata": {
    "id": "WMUXwbo0ek0u"
   }
  },
  {
   "cell_type": "code",
   "source": [
    "#Evaluation Metrics\n",
    "print(classification_report(y_test, y_test_pred))"
   ],
   "metadata": {
    "id": "13ST4F8H80qf",
    "colab": {
     "base_uri": "https://localhost:8080/"
    },
    "executionInfo": {
     "status": "ok",
     "timestamp": 1650472359802,
     "user_tz": -330,
     "elapsed": 7,
     "user": {
      "displayName": "Bertrand Kwibuka",
      "userId": "03353322417714764277"
     }
    },
    "outputId": "bb57d5ea-afbf-47af-a4a5-6b1f9700e8c1"
   },
   "execution_count": null,
   "outputs": [
    {
     "output_type": "stream",
     "name": "stdout",
     "text": [
      "              precision    recall  f1-score   support\n",
      "\n",
      "           0       0.94      0.98      0.96       980\n",
      "           1       0.93      0.97      0.95      1135\n",
      "           2       0.93      0.87      0.90      1032\n",
      "           3       0.90      0.89      0.90      1010\n",
      "           4       0.89      0.93      0.91       982\n",
      "           5       0.88      0.86      0.87       892\n",
      "           6       0.92      0.94      0.93       958\n",
      "           7       0.91      0.91      0.91      1028\n",
      "           8       0.88      0.84      0.86       974\n",
      "           9       0.89      0.88      0.89      1009\n",
      "\n",
      "    accuracy                           0.91     10000\n",
      "   macro avg       0.91      0.91      0.91     10000\n",
      "weighted avg       0.91      0.91      0.91     10000\n"
     ]
    }
   ]
  },
  {
   "cell_type": "markdown",
   "source": [
    "Plotting the learning curve:"
   ],
   "metadata": {
    "id": "DjP82eZoWi5X"
   }
  },
  {
   "cell_type": "code",
   "source": [
    "lr = LogisticRegression(n_jobs = -1, solver=\"saga\", tol = .01, max_iter = 1000)\n",
    "train_sizes, train_scores, valid_scores = learning_curve(lr, X, y, train_sizes=[100, 300, 1000, 3000, 10000, 30000], cv=2)"
   ],
   "metadata": {
    "id": "HVs0NwWvW2xR"
   },
   "execution_count": null,
   "outputs": []
  },
  {
   "cell_type": "code",
   "source": [
    "train_scores_mean = -train_scores.mean(axis = 1)\n",
    "validation_scores_mean = -valid_scores.mean(axis = 1)"
   ],
   "metadata": {
    "id": "4CcSdZ9WW2xR"
   },
   "execution_count": null,
   "outputs": []
  },
  {
   "cell_type": "code",
   "source": [
    "plt.style.use('seaborn')\n",
    "plt.plot(train_sizes, train_scores_mean, label = 'Training error')\n",
    "plt.plot(train_sizes, validation_scores_mean, label = 'Validation error')\n",
    "plt.xlabel('Training set size', fontsize = 14)\n",
    "plt.legend()\n",
    "plt.show()\n",
    "\n",
    "#Does this show high bias (underfitting) or high variance (overfitting)?"
   ],
   "metadata": {
    "colab": {
     "base_uri": "https://localhost:8080/",
     "height": 365
    },
    "executionInfo": {
     "status": "ok",
     "timestamp": 1650472601029,
     "user_tz": -330,
     "elapsed": 34,
     "user": {
      "displayName": "Bertrand Kwibuka",
      "userId": "03353322417714764277"
     }
    },
    "outputId": "94d5dc66-41dd-426f-ae19-8c27e5bd7acb",
    "id": "dfgsfloIW2xS"
   },
   "execution_count": null,
   "outputs": [
    {
     "output_type": "display_data",
     "data": {
      "text/plain": [
       "<Figure size 576x396 with 1 Axes>"
      ],
      "image/png": "[encoded data removed]"
     },
     "metadata": {}
    }
   ]
  },
  {
   "cell_type": "markdown",
   "source": [
    "# Using polynomial features\n"
   ],
   "metadata": {
    "id": "2tvkMD4Crqo0"
   }
  },
  {
   "cell_type": "markdown",
   "source": [
    "\n",
    "\n",
    "1.   Here, the data dimension creates a problem when I run this implementation in colab. The kernel crashes as a result of an overloaded RAM. To solve this, I use PCA to reduce the data dimension\n",
    "2.   In addition, since I use PCA, PCA is affected by scale, so I needed to scale the features in your data before applying PCA\n",
    "\n",
    "\n"
   ],
   "metadata": {
    "id": "MvlNRoGxftDY"
   }
  },
  {
   "cell_type": "markdown",
   "source": [
    "# Code for polynomial features"
   ],
   "metadata": {
    "id": "nvsSy-a8rXxG"
   }
  },
  {
   "cell_type": "markdown",
   "source": [
    "Take a look at data"
   ],
   "metadata": {
    "id": "NOmPGORHmheS"
   }
  },
  {
   "cell_type": "code",
   "source": [
    "print(X.shape)\n",
    "print(X_scale.shape)\n",
    "print(y.shape)\n"
   ],
   "metadata": {
    "colab": {
     "base_uri": "https://localhost:8080/"
    },
    "id": "PgCICSWE5WTo",
    "executionInfo": {
     "status": "ok",
     "timestamp": 1650472711343,
     "user_tz": -330,
     "elapsed": 546,
     "user": {
      "displayName": "Bertrand Kwibuka",
      "userId": "03353322417714764277"
     }
    },
    "outputId": "ea98457c-b776-43f5-ab3b-3bc6ce8d438c"
   },
   "execution_count": null,
   "outputs": [
    {
     "output_type": "stream",
     "name": "stdout",
     "text": [
      "(60000, 784)\n",
      "(60000, 784)\n",
      "(60000,)\n"
     ]
    }
   ]
  },
  {
   "cell_type": "markdown",
   "source": [
    "Below I opt to use PCA to reduce the data dimension. The dimension is pretty large and breaking my RAM. Again it is quite important to mention that I will use the scaled data with the variable X_Scale"
   ],
   "metadata": {
    "id": "BgC4ydUM3w9S"
   }
  },
  {
   "cell_type": "code",
   "source": [
    "#Training-validation Split\n",
    "X_train, X_val, y_train, y_val = train_test_split(X_scale, y, train_size=.5, test_size=.5, stratify=y)\n",
    "\n",
    "print(X_train.shape)\n",
    "print(y_train.shape)"
   ],
   "metadata": {
    "id": "kaFXVsDlhxZu",
    "executionInfo": {
     "status": "ok",
     "timestamp": 1650472715791,
     "user_tz": -330,
     "elapsed": 1453,
     "user": {
      "displayName": "Bertrand Kwibuka",
      "userId": "03353322417714764277"
     }
    },
    "colab": {
     "base_uri": "https://localhost:8080/"
    },
    "outputId": "11473d1a-0195-417e-8117-b7849d45b8aa"
   },
   "execution_count": null,
   "outputs": [
    {
     "output_type": "stream",
     "name": "stdout",
     "text": [
      "(30000, 784)\n",
      "(30000,)\n"
     ]
    }
   ]
  },
  {
   "cell_type": "markdown",
   "source": [
    "PCA implementation:"
   ],
   "metadata": {
    "id": "nO6hppScinHv"
   }
  },
  {
   "cell_type": "code",
   "source": [
    "#PCA implementation and also Figuring out the right number of components: \n",
    "\n",
    "from sklearn.decomposition import PCA\n",
    "from shapely.geometry import LineString\n",
    "import numpy as np\n",
    "\n",
    "\n",
    "pca = PCA().fit(X_train)\n",
    "\n",
    "plt.rcParams[\"figure.figsize\"] = (12,6)\n",
    "\n",
    "fig, ax = plt.subplots()\n",
    "xi = np.arange(1, 785, step=1)\n",
    "y = np.cumsum(pca.explained_variance_ratio_)\n",
    "\n",
    "plt.ylim(0.0,1.1)\n",
    "plt.plot(xi, y, marker='o', linestyle='--', color='b')\n",
    "\n",
    "plt.xlabel('Number of Components')\n",
    "plt.xticks(np.arange(0, 785, step=35)) \n",
    "plt.ylabel('Cumulative variance (%)')\n",
    "plt.title('The number of components needed to explain variance')\n",
    "\n",
    "plt.axhline(y=0.95, color='r', linestyle='-')\n",
    "plt.text(0.5, 0.85, '95% cut-off threshold', color = 'red', fontsize=16)\n",
    "\n",
    "ax.grid(axis='x')\n",
    "\n",
    "#Finding the intesection point \n"
   ],
   "metadata": {
    "id": "NC2uTj9_gGMs",
    "colab": {
     "base_uri": "https://localhost:8080/",
     "height": 403
    },
    "executionInfo": {
     "status": "ok",
     "timestamp": 1650472727127,
     "user_tz": -330,
     "elapsed": 7027,
     "user": {
      "displayName": "Bertrand Kwibuka",
      "userId": "03353322417714764277"
     }
    },
    "outputId": "74f20da8-7925-4905-81ea-c049ac9af9e5"
   },
   "execution_count": null,
   "outputs": [
    {
     "output_type": "display_data",
     "data": {
      "text/plain": [
       "<Figure size 864x432 with 1 Axes>"
      ],
      "image/png": "[encoded data removed]"
     },
     "metadata": {}
    }
   ]
  },
  {
   "cell_type": "markdown",
   "source": [
    "Number of optimal components to be used = 280 !! However, this still crashes colab RAM. Therefore, I am opting the highest variance which will give me a number that does not crash my RAM (Pretty sad about my PC). That is 80 % variance which gives me optimal 129 components"
   ],
   "metadata": {
    "id": "-Vg1lj7KDa18"
   }
  },
  {
   "cell_type": "code",
   "source": [
    "#implementing PCA\n",
    "pca = PCA(0.80)\n",
    "pca.fit(X_train)\n",
    "reduced = pca.transform(X_train)\n",
    "print(X_scale.shape)\n",
    "print(reduced.shape)\n",
    "\n",
    "principalDf = pd.DataFrame(data = reduced)\n",
    "principalDf.shape\n"
   ],
   "metadata": {
    "id": "x9MArn-Pg1ZE",
    "colab": {
     "base_uri": "https://localhost:8080/"
    },
    "executionInfo": {
     "status": "ok",
     "timestamp": 1650472741220,
     "user_tz": -330,
     "elapsed": 7296,
     "user": {
      "displayName": "Bertrand Kwibuka",
      "userId": "03353322417714764277"
     }
    },
    "outputId": "5ce3a7ee-7276-4b91-f45d-73c2e128968d"
   },
   "execution_count": null,
   "outputs": [
    {
     "output_type": "stream",
     "name": "stdout",
     "text": [
      "(60000, 784)\n",
      "(30000, 129)\n"
     ]
    },
    {
     "output_type": "execute_result",
     "data": {
      "text/plain": [
       "(30000, 129)"
      ]
     },
     "metadata": {},
     "execution_count": 33
    }
   ]
  },
  {
   "cell_type": "code",
   "source": [
    "#Transforming data \n",
    "\n",
    "X_poly = PolynomialFeatures(degree = 2,include_bias = False).fit_transform(reduced)\n",
    "X_poly.shape\n",
    "print(y.shape)\n",
    "print(X_poly.shape)"
   ],
   "metadata": {
    "id": "qqnuQ7VI_aEV",
    "colab": {
     "base_uri": "https://localhost:8080/"
    },
    "executionInfo": {
     "status": "ok",
     "timestamp": 1650472795654,
     "user_tz": -330,
     "elapsed": 3076,
     "user": {
      "displayName": "Bertrand Kwibuka",
      "userId": "03353322417714764277"
     }
    },
    "outputId": "274ed0e3-a63f-4e19-8bb6-310ea0ef3f89"
   },
   "execution_count": null,
   "outputs": [
    {
     "output_type": "stream",
     "name": "stdout",
     "text": [
      "(784,)\n",
      "(30000, 8514)\n"
     ]
    }
   ]
  },
  {
   "cell_type": "code",
   "source": [
    "print(y_train.shape)\n",
    "print(X_train.shape)"
   ],
   "metadata": {
    "colab": {
     "base_uri": "https://localhost:8080/"
    },
    "id": "VnNHsuZaXOGJ",
    "executionInfo": {
     "status": "ok",
     "timestamp": 1650472758925,
     "user_tz": -330,
     "elapsed": 494,
     "user": {
      "displayName": "Bertrand Kwibuka",
      "userId": "03353322417714764277"
     }
    },
    "outputId": "1979cca2-5220-4b50-a90f-cf90737aa47e"
   },
   "execution_count": null,
   "outputs": [
    {
     "output_type": "stream",
     "name": "stdout",
     "text": [
      "(30000,)\n",
      "(30000, 784)\n"
     ]
    }
   ]
  },
  {
   "cell_type": "markdown",
   "source": [
    "The polynomial features may be computationally expensive. I need to be careful with parameters. Hence, I resort to using standard maximum iterations 100 and the best penalty to be used is l2. The solver will remain as Saga. "
   ],
   "metadata": {
    "id": "XPYfPdBnftQq"
   }
  },
  {
   "cell_type": "markdown",
   "source": [
    "Searching for the best penalty to be used: "
   ],
   "metadata": {
    "id": "xZhAmAsxX3Gw"
   }
  },
  {
   "cell_type": "code",
   "source": [
    "penalty = ['l1', 'l2', 'elasticnet' ]\n",
    "param_grid = dict(penalty=penalty)\n",
    "\n",
    "\n",
    "lr = LogisticRegression(n_jobs = -1, solver=\"saga\", tol = .01, max_iter = 100 )\n",
    "\n",
    "grid = GridSearchCV(estimator=lr, param_grid=param_grid, cv = 2, n_jobs=-1)\n",
    "\n",
    "start_time = time.time()\n",
    "grid_result = grid.fit(X_poly, y_train)\n",
    "# Summarize results\n",
    "print(\"Best: %f using %s\" % (grid_result.best_score_, grid_result.best_params_))\n",
    "print(\"Execution time: \" + str((time.time() - start_time)) + ' ms')"
   ],
   "metadata": {
    "colab": {
     "base_uri": "https://localhost:8080/"
    },
    "id": "9MPJ2DMIX6vR",
    "executionInfo": {
     "status": "ok",
     "timestamp": 1650466684754,
     "user_tz": -330,
     "elapsed": 584961,
     "user": {
      "displayName": "Bertrand Kwibuka",
      "userId": "03353322417714764277"
     }
    },
    "outputId": "2a800126-2e38-4475-c02a-530f2d46dc92"
   },
   "execution_count": null,
   "outputs": [
    {
     "output_type": "stream",
     "name": "stderr",
     "text": [
      "/usr/local/lib/python3.7/dist-packages/sklearn/model_selection/_validation.py:372: FitFailedWarning: \n",
      "4 fits failed out of a total of 6.\n",
      "The score on these train-test partitions for these parameters will be set to nan.\n",
      "If these failures are not expected, you can try to debug them by setting error_score='raise'.\n",
      "\n",
      "Below are more details about the failures:\n",
      "--------------------------------------------------------------------------------\n",
      "2 fits failed with the following error:\n",
      "Traceback (most recent call last):\n",
      "  File \"/usr/local/lib/python3.7/dist-packages/sklearn/model_selection/_validation.py\", line 680, in _fit_and_score\n",
      "    estimator.fit(X_train, y_train, **fit_params)\n",
      "  File \"/usr/local/lib/python3.7/dist-packages/sklearn/linear_model/_logistic.py\", line 1461, in fit\n",
      "    solver = _check_solver(self.solver, self.penalty, self.dual)\n",
      "  File \"/usr/local/lib/python3.7/dist-packages/sklearn/linear_model/_logistic.py\", line 449, in _check_solver\n",
      "    % (solver, penalty)\n",
      "ValueError: Solver lbfgs supports only 'l2' or 'none' penalties, got l1 penalty.\n",
      "\n",
      "--------------------------------------------------------------------------------\n",
      "2 fits failed with the following error:\n",
      "Traceback (most recent call last):\n",
      "  File \"/usr/local/lib/python3.7/dist-packages/sklearn/model_selection/_validation.py\", line 680, in _fit_and_score\n",
      "    estimator.fit(X_train, y_train, **fit_params)\n",
      "  File \"/usr/local/lib/python3.7/dist-packages/sklearn/linear_model/_logistic.py\", line 1461, in fit\n",
      "    solver = _check_solver(self.solver, self.penalty, self.dual)\n",
      "  File \"/usr/local/lib/python3.7/dist-packages/sklearn/linear_model/_logistic.py\", line 449, in _check_solver\n",
      "    % (solver, penalty)\n",
      "ValueError: Solver lbfgs supports only 'l2' or 'none' penalties, got elasticnet penalty.\n",
      "\n",
      "  warnings.warn(some_fits_failed_message, FitFailedWarning)\n",
      "/usr/local/lib/python3.7/dist-packages/sklearn/model_selection/_search.py:972: UserWarning: One or more of the test scores are non-finite: [       nan 0.95723333        nan]\n",
      "  category=UserWarning,\n"
     ]
    },
    {
     "output_type": "stream",
     "name": "stdout",
     "text": [
      "Best: 0.957233 using {'penalty': 'l2'}\n",
      "Execution time: 584.4453344345093 ms\n"
     ]
    },
    {
     "output_type": "stream",
     "name": "stderr",
     "text": [
      "/usr/local/lib/python3.7/dist-packages/sklearn/linear_model/_logistic.py:818: ConvergenceWarning: lbfgs failed to converge (status=1):\n",
      "STOP: TOTAL NO. of ITERATIONS REACHED LIMIT.\n",
      "\n",
      "Increase the number of iterations (max_iter) or scale the data as shown in:\n",
      "    https://scikit-learn.org/stable/modules/preprocessing.html\n",
      "Please also refer to the documentation for alternative solver options:\n",
      "    https://scikit-learn.org/stable/modules/linear_model.html#logistic-regression\n",
      "  extra_warning_msg=_LOGISTIC_SOLVER_CONVERGENCE_MSG,\n"
     ]
    }
   ]
  },
  {
   "cell_type": "markdown",
   "source": [
    "Important Note: There is no need to run the polynomial features without using regularization. This will crash my RAM and take unnecessary hours. Therefore unlike for linear features, I did not run the polynomial features model without regularization. Hence, I proceed to: \n",
    "\n",
    "Searching the optimal regularisation parameter for the polynomial features:\n"
   ],
   "metadata": {
    "id": "pHUDW-gGVfHr"
   }
  },
  {
   "cell_type": "code",
   "source": [
    "# Grid search\n",
    "\n",
    "#Grid search:\n",
    "from sklearn.model_selection import GridSearchCV\n",
    "\n",
    "t0 = time.time()\n",
    "\n",
    "param_grid = [{'C': [1, 10]},]\n",
    "lr = LogisticRegression(n_jobs = -1, solver=\"saga\", tol = .01, max_iter = 100)\n",
    "grid_search = GridSearchCV(lr, param_grid, cv = 2, n_jobs = -1)\n",
    "grid_search.fit(X_poly, y_train)\n",
    "\n",
    "t1 = time.time()\n",
    "\n",
    "print('Time taken: ', t1 - t0)\n",
    "\n",
    "print(\"Tuned hyperparameter: \", grid_search.best_params_)\n",
    "print(\"Accuracy :\", grid_search.best_score_)\n"
   ],
   "metadata": {
    "id": "y_Fj9O59VeOB",
    "colab": {
     "base_uri": "https://localhost:8080/"
    },
    "executionInfo": {
     "status": "ok",
     "timestamp": 1650476427457,
     "user_tz": -330,
     "elapsed": 3601932,
     "user": {
      "displayName": "Bertrand Kwibuka",
      "userId": "03353322417714764277"
     }
    },
    "outputId": "3a49da70-7bca-4e11-f3bf-05fd0623a9e8"
   },
   "execution_count": null,
   "outputs": [
    {
     "output_type": "stream",
     "name": "stderr",
     "text": [
      "/usr/local/lib/python3.7/dist-packages/joblib/externals/loky/process_executor.py:705: UserWarning: A worker stopped while some jobs were given to the executor. This can be caused by a too short worker timeout or by a memory leak.\n",
      "  \"timeout or by a memory leak.\", UserWarning\n"
     ]
    },
    {
     "output_type": "stream",
     "name": "stdout",
     "text": [
      "Time taken:  3601.053134202957\n",
      "Tuned hyperparameter:  {'C': 1}\n",
      "Accuracy : 0.6881333333333333\n"
     ]
    }
   ]
  },
  {
   "cell_type": "markdown",
   "source": [
    "Running the model with all the best hyperparameters"
   ],
   "metadata": {
    "id": "W48czV6tXEDA"
   }
  },
  {
   "cell_type": "code",
   "source": [
    "# Running the model \n",
    "\n",
    "t0 = time.time()\n",
    "\n",
    "lr = LogisticRegression(n_jobs = -1, penalty = 'l2' , solver = 'saga', C= 1, max_iter= 100).fit(X_poly,y_train) \n",
    "#the dataset is big, the model can take more time and crash the RAM. \n",
    "\n",
    "t1 = time.time()\n",
    "\n",
    "print('Training Time: ', t1 - t0)"
   ],
   "metadata": {
    "id": "5oSIdhDFVJR6",
    "colab": {
     "base_uri": "https://localhost:8080/"
    },
    "executionInfo": {
     "status": "ok",
     "timestamp": 1650479777615,
     "user_tz": -330,
     "elapsed": 148553,
     "user": {
      "displayName": "Bertrand Kwibuka",
      "userId": "03353322417714764277"
     }
    },
    "outputId": "e6203133-5a01-412a-a143-7a91b83fd1a3"
   },
   "execution_count": null,
   "outputs": [
    {
     "output_type": "stream",
     "name": "stdout",
     "text": [
      "Training Time:  1549.7436265945435\n"
     ]
    },
    {
     "output_type": "stream",
     "name": "stderr",
     "text": [
      "/usr/local/lib/python3.7/dist-packages/sklearn/linear_model/_sag.py:354: ConvergenceWarning: The max_iter was reached which means the coef_ did not converge\n",
      "  ConvergenceWarning,\n"
     ]
    }
   ]
  },
  {
   "cell_type": "markdown",
   "source": [],
   "metadata": {
    "id": "MNSHxq1jSkv4"
   }
  },
  {
   "cell_type": "markdown",
   "source": [
    "Plotting the prediction:"
   ],
   "metadata": {
    "id": "96fw4WSNg16j"
   }
  },
  {
   "cell_type": "code",
   "source": [
    "#plotting the prediction \n",
    "\n",
    "y_pred = lr.predict(X_poly)\n",
    "plt.scatter(X_poly[:, 0], X_poly[:, 1], c=y_pred)\n",
    "plt.show"
   ],
   "metadata": {
    "id": "K8JjWg0qVRvd",
    "executionInfo": {
     "status": "ok",
     "timestamp": 1650480368782,
     "user_tz": -330,
     "elapsed": 6924,
     "user": {
      "displayName": "Bertrand Kwibuka",
      "userId": "03353322417714764277"
     }
    },
    "colab": {
     "base_uri": "https://localhost:8080/",
     "height": 391
    },
    "outputId": "bcacf4f9-f5d0-4f68-fd70-9794c0d5948d"
   },
   "execution_count": 41,
   "outputs": [
    {
     "output_type": "execute_result",
     "data": {
      "text/plain": [
       "<function matplotlib.pyplot.show>"
      ]
     },
     "metadata": {},
     "execution_count": 41
    },
    {
     "output_type": "display_data",
     "data": {
      "text/plain": [
       "<Figure size 864x432 with 1 Axes>"
      ],
      "image/png": "[encoded data removed]"
     },
     "metadata": {}
    }
   ]
  },
  {
   "cell_type": "markdown",
   "source": [
    "Evaluation metrics:"
   ],
   "metadata": {
    "id": "eCD96MDJg4T7"
   }
  },
  {
   "cell_type": "code",
   "source": [
    "#Evaluation matrics\n",
    "\n",
    "print(classification_report(y_test, y_test_pred))\n"
   ],
   "metadata": {
    "id": "rToOv9hrVWsh",
    "executionInfo": {
     "status": "ok",
     "timestamp": 1650480379480,
     "user_tz": -330,
     "elapsed": 498,
     "user": {
      "displayName": "Bertrand Kwibuka",
      "userId": "03353322417714764277"
     }
    },
    "colab": {
     "base_uri": "https://localhost:8080/"
    },
    "outputId": "fe8075cf-3ee5-4d04-93de-a269c734f6d9"
   },
   "execution_count": 42,
   "outputs": [
    {
     "output_type": "stream",
     "name": "stdout",
     "text": [
      "              precision    recall  f1-score   support\n",
      "\n",
      "           0       0.94      0.98      0.96       980\n",
      "           1       0.93      0.97      0.95      1135\n",
      "           2       0.93      0.87      0.90      1032\n",
      "           3       0.90      0.89      0.90      1010\n",
      "           4       0.89      0.93      0.91       982\n",
      "           5       0.88      0.86      0.87       892\n",
      "           6       0.92      0.94      0.93       958\n",
      "           7       0.91      0.91      0.91      1028\n",
      "           8       0.88      0.84      0.86       974\n",
      "           9       0.89      0.88      0.89      1009\n",
      "\n",
      "    accuracy                           0.91     10000\n",
      "   macro avg       0.91      0.91      0.91     10000\n",
      "weighted avg       0.91      0.91      0.91     10000\n"
     ]
    }
   ]
  },
  {
   "cell_type": "markdown",
   "source": [
    "Evaluating the polynomial features model on the test set\n"
   ],
   "metadata": {
    "id": "RkT35cyEHoQm"
   }
  },
  {
   "cell_type": "code",
   "source": [
    "file = 'mnist_test.csv'\n",
    "df = pd.read_csv(path+file)\n",
    "X_test, y_test = df.iloc[:, 1:].values, df['label']\n",
    "X_test = scaler.fit_transform(X_test)\n",
    "\n",
    "y_test_pred = lr.predict(X_test)"
   ],
   "metadata": {
    "id": "sWnPdg_pHqnS",
    "executionInfo": {
     "status": "error",
     "timestamp": 1650480451786,
     "user_tz": -330,
     "elapsed": 2482,
     "user": {
      "displayName": "Bertrand Kwibuka",
      "userId": "03353322417714764277"
     }
    },
    "colab": {
     "base_uri": "https://localhost:8080/",
     "height": 345
    },
    "outputId": "f3b45b2d-07a7-4058-e21f-3e62db62bc3f"
   },
   "execution_count": 43,
   "outputs": [
    {
     "output_type": "error",
     "ename": "ValueError",
     "evalue": "ignored",
     "traceback": [
      "\u001B[0;31m---------------------------------------------------------------------------\u001B[0m",
      "\u001B[0;31mValueError\u001B[0m                                Traceback (most recent call last)",
      "\u001B[0;32m<ipython-input-43-f685f78f7c7d>\u001B[0m in \u001B[0;36m<module>\u001B[0;34m()\u001B[0m\n\u001B[1;32m      4\u001B[0m \u001B[0mX_test\u001B[0m \u001B[0;34m=\u001B[0m \u001B[0mscaler\u001B[0m\u001B[0;34m.\u001B[0m\u001B[0mfit_transform\u001B[0m\u001B[0;34m(\u001B[0m\u001B[0mX_test\u001B[0m\u001B[0;34m)\u001B[0m\u001B[0;34m\u001B[0m\u001B[0;34m\u001B[0m\u001B[0m\n\u001B[1;32m      5\u001B[0m \u001B[0;34m\u001B[0m\u001B[0m\n\u001B[0;32m----> 6\u001B[0;31m \u001B[0my_test_pred\u001B[0m \u001B[0;34m=\u001B[0m \u001B[0mlr\u001B[0m\u001B[0;34m.\u001B[0m\u001B[0mpredict\u001B[0m\u001B[0;34m(\u001B[0m\u001B[0mX_test\u001B[0m\u001B[0;34m)\u001B[0m\u001B[0;34m\u001B[0m\u001B[0;34m\u001B[0m\u001B[0m\n\u001B[0m",
      "\u001B[0;32m/usr/local/lib/python3.7/dist-packages/sklearn/linear_model/_base.py\u001B[0m in \u001B[0;36mpredict\u001B[0;34m(self, X)\u001B[0m\n\u001B[1;32m    423\u001B[0m             \u001B[0mVector\u001B[0m \u001B[0mcontaining\u001B[0m \u001B[0mthe\u001B[0m \u001B[0;32mclass\u001B[0m \u001B[0mlabels\u001B[0m \u001B[0;32mfor\u001B[0m \u001B[0meach\u001B[0m \u001B[0msample\u001B[0m\u001B[0;34m.\u001B[0m\u001B[0;34m\u001B[0m\u001B[0;34m\u001B[0m\u001B[0m\n\u001B[1;32m    424\u001B[0m         \"\"\"\n\u001B[0;32m--> 425\u001B[0;31m         \u001B[0mscores\u001B[0m \u001B[0;34m=\u001B[0m \u001B[0mself\u001B[0m\u001B[0;34m.\u001B[0m\u001B[0mdecision_function\u001B[0m\u001B[0;34m(\u001B[0m\u001B[0mX\u001B[0m\u001B[0;34m)\u001B[0m\u001B[0;34m\u001B[0m\u001B[0;34m\u001B[0m\u001B[0m\n\u001B[0m\u001B[1;32m    426\u001B[0m         \u001B[0;32mif\u001B[0m \u001B[0mlen\u001B[0m\u001B[0;34m(\u001B[0m\u001B[0mscores\u001B[0m\u001B[0;34m.\u001B[0m\u001B[0mshape\u001B[0m\u001B[0;34m)\u001B[0m \u001B[0;34m==\u001B[0m \u001B[0;36m1\u001B[0m\u001B[0;34m:\u001B[0m\u001B[0;34m\u001B[0m\u001B[0;34m\u001B[0m\u001B[0m\n\u001B[1;32m    427\u001B[0m             \u001B[0mindices\u001B[0m \u001B[0;34m=\u001B[0m \u001B[0;34m(\u001B[0m\u001B[0mscores\u001B[0m \u001B[0;34m>\u001B[0m \u001B[0;36m0\u001B[0m\u001B[0;34m)\u001B[0m\u001B[0;34m.\u001B[0m\u001B[0mastype\u001B[0m\u001B[0;34m(\u001B[0m\u001B[0mint\u001B[0m\u001B[0;34m)\u001B[0m\u001B[0;34m\u001B[0m\u001B[0;34m\u001B[0m\u001B[0m\n",
      "\u001B[0;32m/usr/local/lib/python3.7/dist-packages/sklearn/linear_model/_base.py\u001B[0m in \u001B[0;36mdecision_function\u001B[0;34m(self, X)\u001B[0m\n\u001B[1;32m    405\u001B[0m         \u001B[0mcheck_is_fitted\u001B[0m\u001B[0;34m(\u001B[0m\u001B[0mself\u001B[0m\u001B[0;34m)\u001B[0m\u001B[0;34m\u001B[0m\u001B[0;34m\u001B[0m\u001B[0m\n\u001B[1;32m    406\u001B[0m \u001B[0;34m\u001B[0m\u001B[0m\n\u001B[0;32m--> 407\u001B[0;31m         \u001B[0mX\u001B[0m \u001B[0;34m=\u001B[0m \u001B[0mself\u001B[0m\u001B[0;34m.\u001B[0m\u001B[0m_validate_data\u001B[0m\u001B[0;34m(\u001B[0m\u001B[0mX\u001B[0m\u001B[0;34m,\u001B[0m \u001B[0maccept_sparse\u001B[0m\u001B[0;34m=\u001B[0m\u001B[0;34m\"csr\"\u001B[0m\u001B[0;34m,\u001B[0m \u001B[0mreset\u001B[0m\u001B[0;34m=\u001B[0m\u001B[0;32mFalse\u001B[0m\u001B[0;34m)\u001B[0m\u001B[0;34m\u001B[0m\u001B[0;34m\u001B[0m\u001B[0m\n\u001B[0m\u001B[1;32m    408\u001B[0m         \u001B[0mscores\u001B[0m \u001B[0;34m=\u001B[0m \u001B[0msafe_sparse_dot\u001B[0m\u001B[0;34m(\u001B[0m\u001B[0mX\u001B[0m\u001B[0;34m,\u001B[0m \u001B[0mself\u001B[0m\u001B[0;34m.\u001B[0m\u001B[0mcoef_\u001B[0m\u001B[0;34m.\u001B[0m\u001B[0mT\u001B[0m\u001B[0;34m,\u001B[0m \u001B[0mdense_output\u001B[0m\u001B[0;34m=\u001B[0m\u001B[0;32mTrue\u001B[0m\u001B[0;34m)\u001B[0m \u001B[0;34m+\u001B[0m \u001B[0mself\u001B[0m\u001B[0;34m.\u001B[0m\u001B[0mintercept_\u001B[0m\u001B[0;34m\u001B[0m\u001B[0;34m\u001B[0m\u001B[0m\n\u001B[1;32m    409\u001B[0m         \u001B[0;32mreturn\u001B[0m \u001B[0mscores\u001B[0m\u001B[0;34m.\u001B[0m\u001B[0mravel\u001B[0m\u001B[0;34m(\u001B[0m\u001B[0;34m)\u001B[0m \u001B[0;32mif\u001B[0m \u001B[0mscores\u001B[0m\u001B[0;34m.\u001B[0m\u001B[0mshape\u001B[0m\u001B[0;34m[\u001B[0m\u001B[0;36m1\u001B[0m\u001B[0;34m]\u001B[0m \u001B[0;34m==\u001B[0m \u001B[0;36m1\u001B[0m \u001B[0;32melse\u001B[0m \u001B[0mscores\u001B[0m\u001B[0;34m\u001B[0m\u001B[0;34m\u001B[0m\u001B[0m\n",
      "\u001B[0;32m/usr/local/lib/python3.7/dist-packages/sklearn/base.py\u001B[0m in \u001B[0;36m_validate_data\u001B[0;34m(self, X, y, reset, validate_separately, **check_params)\u001B[0m\n\u001B[1;32m    583\u001B[0m \u001B[0;34m\u001B[0m\u001B[0m\n\u001B[1;32m    584\u001B[0m         \u001B[0;32mif\u001B[0m \u001B[0;32mnot\u001B[0m \u001B[0mno_val_X\u001B[0m \u001B[0;32mand\u001B[0m \u001B[0mcheck_params\u001B[0m\u001B[0;34m.\u001B[0m\u001B[0mget\u001B[0m\u001B[0;34m(\u001B[0m\u001B[0;34m\"ensure_2d\"\u001B[0m\u001B[0;34m,\u001B[0m \u001B[0;32mTrue\u001B[0m\u001B[0;34m)\u001B[0m\u001B[0;34m:\u001B[0m\u001B[0;34m\u001B[0m\u001B[0;34m\u001B[0m\u001B[0m\n\u001B[0;32m--> 585\u001B[0;31m             \u001B[0mself\u001B[0m\u001B[0;34m.\u001B[0m\u001B[0m_check_n_features\u001B[0m\u001B[0;34m(\u001B[0m\u001B[0mX\u001B[0m\u001B[0;34m,\u001B[0m \u001B[0mreset\u001B[0m\u001B[0;34m=\u001B[0m\u001B[0mreset\u001B[0m\u001B[0;34m)\u001B[0m\u001B[0;34m\u001B[0m\u001B[0;34m\u001B[0m\u001B[0m\n\u001B[0m\u001B[1;32m    586\u001B[0m \u001B[0;34m\u001B[0m\u001B[0m\n\u001B[1;32m    587\u001B[0m         \u001B[0;32mreturn\u001B[0m \u001B[0mout\u001B[0m\u001B[0;34m\u001B[0m\u001B[0;34m\u001B[0m\u001B[0m\n",
      "\u001B[0;32m/usr/local/lib/python3.7/dist-packages/sklearn/base.py\u001B[0m in \u001B[0;36m_check_n_features\u001B[0;34m(self, X, reset)\u001B[0m\n\u001B[1;32m    399\u001B[0m         \u001B[0;32mif\u001B[0m \u001B[0mn_features\u001B[0m \u001B[0;34m!=\u001B[0m \u001B[0mself\u001B[0m\u001B[0;34m.\u001B[0m\u001B[0mn_features_in_\u001B[0m\u001B[0;34m:\u001B[0m\u001B[0;34m\u001B[0m\u001B[0;34m\u001B[0m\u001B[0m\n\u001B[1;32m    400\u001B[0m             raise ValueError(\n\u001B[0;32m--> 401\u001B[0;31m                 \u001B[0;34mf\"X has {n_features} features, but {self.__class__.__name__} \"\u001B[0m\u001B[0;34m\u001B[0m\u001B[0;34m\u001B[0m\u001B[0m\n\u001B[0m\u001B[1;32m    402\u001B[0m                 \u001B[0;34mf\"is expecting {self.n_features_in_} features as input.\"\u001B[0m\u001B[0;34m\u001B[0m\u001B[0;34m\u001B[0m\u001B[0m\n\u001B[1;32m    403\u001B[0m             )\n",
      "\u001B[0;31mValueError\u001B[0m: X has 784 features, but LogisticRegression is expecting 8514 features as input."
     ]
    }
   ]
  },
  {
   "cell_type": "markdown",
   "source": [
    "Confusion Matrix: "
   ],
   "metadata": {
    "id": "dTdzmc2phELe"
   }
  },
  {
   "cell_type": "code",
   "source": [
    "#Confusion Matrix using Seaborn\n",
    "\n",
    "plt.figure(figsize=(12,12))\n",
    "sns.heatmap(confusion_matrix(y_test, y_test_pred), annot=True, \n",
    "            linewidths=.5, square = True, cmap = 'Blues_r', fmt='0.4g');\n",
    "\n",
    "plt.ylabel('Actual label')\n",
    "plt.xlabel('Predicted label')\n",
    "all_sample_title = 'Accuracy Score: {0}'.format(lr.score(X_test, y_test))\n",
    "plt.title(all_sample_title);"
   ],
   "metadata": {
    "id": "OzBPmRKUHsOe",
    "executionInfo": {
     "status": "error",
     "timestamp": 1650480468706,
     "user_tz": -330,
     "elapsed": 1590,
     "user": {
      "displayName": "Bertrand Kwibuka",
      "userId": "03353322417714764277"
     }
    },
    "colab": {
     "base_uri": "https://localhost:8080/",
     "height": 1000
    },
    "outputId": "2176c4cb-7aae-4370-faa0-03598a6db21c"
   },
   "execution_count": 44,
   "outputs": [
    {
     "output_type": "error",
     "ename": "ValueError",
     "evalue": "ignored",
     "traceback": [
      "\u001B[0;31m---------------------------------------------------------------------------\u001B[0m",
      "\u001B[0;31mValueError\u001B[0m                                Traceback (most recent call last)",
      "\u001B[0;32m<ipython-input-44-430ffd6271d9>\u001B[0m in \u001B[0;36m<module>\u001B[0;34m()\u001B[0m\n\u001B[1;32m      7\u001B[0m \u001B[0mplt\u001B[0m\u001B[0;34m.\u001B[0m\u001B[0mylabel\u001B[0m\u001B[0;34m(\u001B[0m\u001B[0;34m'Actual label'\u001B[0m\u001B[0;34m)\u001B[0m\u001B[0;34m\u001B[0m\u001B[0;34m\u001B[0m\u001B[0m\n\u001B[1;32m      8\u001B[0m \u001B[0mplt\u001B[0m\u001B[0;34m.\u001B[0m\u001B[0mxlabel\u001B[0m\u001B[0;34m(\u001B[0m\u001B[0;34m'Predicted label'\u001B[0m\u001B[0;34m)\u001B[0m\u001B[0;34m\u001B[0m\u001B[0;34m\u001B[0m\u001B[0m\n\u001B[0;32m----> 9\u001B[0;31m \u001B[0mall_sample_title\u001B[0m \u001B[0;34m=\u001B[0m \u001B[0;34m'Accuracy Score: {0}'\u001B[0m\u001B[0;34m.\u001B[0m\u001B[0mformat\u001B[0m\u001B[0;34m(\u001B[0m\u001B[0mlr\u001B[0m\u001B[0;34m.\u001B[0m\u001B[0mscore\u001B[0m\u001B[0;34m(\u001B[0m\u001B[0mX_test\u001B[0m\u001B[0;34m,\u001B[0m \u001B[0my_test\u001B[0m\u001B[0;34m)\u001B[0m\u001B[0;34m)\u001B[0m\u001B[0;34m\u001B[0m\u001B[0;34m\u001B[0m\u001B[0m\n\u001B[0m\u001B[1;32m     10\u001B[0m \u001B[0mplt\u001B[0m\u001B[0;34m.\u001B[0m\u001B[0mtitle\u001B[0m\u001B[0;34m(\u001B[0m\u001B[0mall_sample_title\u001B[0m\u001B[0;34m)\u001B[0m\u001B[0;34m;\u001B[0m\u001B[0;34m\u001B[0m\u001B[0;34m\u001B[0m\u001B[0m\n",
      "\u001B[0;32m/usr/local/lib/python3.7/dist-packages/sklearn/base.py\u001B[0m in \u001B[0;36mscore\u001B[0;34m(self, X, y, sample_weight)\u001B[0m\n\u001B[1;32m    649\u001B[0m         \u001B[0;32mfrom\u001B[0m \u001B[0;34m.\u001B[0m\u001B[0mmetrics\u001B[0m \u001B[0;32mimport\u001B[0m \u001B[0maccuracy_score\u001B[0m\u001B[0;34m\u001B[0m\u001B[0;34m\u001B[0m\u001B[0m\n\u001B[1;32m    650\u001B[0m \u001B[0;34m\u001B[0m\u001B[0m\n\u001B[0;32m--> 651\u001B[0;31m         \u001B[0;32mreturn\u001B[0m \u001B[0maccuracy_score\u001B[0m\u001B[0;34m(\u001B[0m\u001B[0my\u001B[0m\u001B[0;34m,\u001B[0m \u001B[0mself\u001B[0m\u001B[0;34m.\u001B[0m\u001B[0mpredict\u001B[0m\u001B[0;34m(\u001B[0m\u001B[0mX\u001B[0m\u001B[0;34m)\u001B[0m\u001B[0;34m,\u001B[0m \u001B[0msample_weight\u001B[0m\u001B[0;34m=\u001B[0m\u001B[0msample_weight\u001B[0m\u001B[0;34m)\u001B[0m\u001B[0;34m\u001B[0m\u001B[0;34m\u001B[0m\u001B[0m\n\u001B[0m\u001B[1;32m    652\u001B[0m \u001B[0;34m\u001B[0m\u001B[0m\n\u001B[1;32m    653\u001B[0m     \u001B[0;32mdef\u001B[0m \u001B[0m_more_tags\u001B[0m\u001B[0;34m(\u001B[0m\u001B[0mself\u001B[0m\u001B[0;34m)\u001B[0m\u001B[0;34m:\u001B[0m\u001B[0;34m\u001B[0m\u001B[0;34m\u001B[0m\u001B[0m\n",
      "\u001B[0;32m/usr/local/lib/python3.7/dist-packages/sklearn/linear_model/_base.py\u001B[0m in \u001B[0;36mpredict\u001B[0;34m(self, X)\u001B[0m\n\u001B[1;32m    423\u001B[0m             \u001B[0mVector\u001B[0m \u001B[0mcontaining\u001B[0m \u001B[0mthe\u001B[0m \u001B[0;32mclass\u001B[0m \u001B[0mlabels\u001B[0m \u001B[0;32mfor\u001B[0m \u001B[0meach\u001B[0m \u001B[0msample\u001B[0m\u001B[0;34m.\u001B[0m\u001B[0;34m\u001B[0m\u001B[0;34m\u001B[0m\u001B[0m\n\u001B[1;32m    424\u001B[0m         \"\"\"\n\u001B[0;32m--> 425\u001B[0;31m         \u001B[0mscores\u001B[0m \u001B[0;34m=\u001B[0m \u001B[0mself\u001B[0m\u001B[0;34m.\u001B[0m\u001B[0mdecision_function\u001B[0m\u001B[0;34m(\u001B[0m\u001B[0mX\u001B[0m\u001B[0;34m)\u001B[0m\u001B[0;34m\u001B[0m\u001B[0;34m\u001B[0m\u001B[0m\n\u001B[0m\u001B[1;32m    426\u001B[0m         \u001B[0;32mif\u001B[0m \u001B[0mlen\u001B[0m\u001B[0;34m(\u001B[0m\u001B[0mscores\u001B[0m\u001B[0;34m.\u001B[0m\u001B[0mshape\u001B[0m\u001B[0;34m)\u001B[0m \u001B[0;34m==\u001B[0m \u001B[0;36m1\u001B[0m\u001B[0;34m:\u001B[0m\u001B[0;34m\u001B[0m\u001B[0;34m\u001B[0m\u001B[0m\n\u001B[1;32m    427\u001B[0m             \u001B[0mindices\u001B[0m \u001B[0;34m=\u001B[0m \u001B[0;34m(\u001B[0m\u001B[0mscores\u001B[0m \u001B[0;34m>\u001B[0m \u001B[0;36m0\u001B[0m\u001B[0;34m)\u001B[0m\u001B[0;34m.\u001B[0m\u001B[0mastype\u001B[0m\u001B[0;34m(\u001B[0m\u001B[0mint\u001B[0m\u001B[0;34m)\u001B[0m\u001B[0;34m\u001B[0m\u001B[0;34m\u001B[0m\u001B[0m\n",
      "\u001B[0;32m/usr/local/lib/python3.7/dist-packages/sklearn/linear_model/_base.py\u001B[0m in \u001B[0;36mdecision_function\u001B[0;34m(self, X)\u001B[0m\n\u001B[1;32m    405\u001B[0m         \u001B[0mcheck_is_fitted\u001B[0m\u001B[0;34m(\u001B[0m\u001B[0mself\u001B[0m\u001B[0;34m)\u001B[0m\u001B[0;34m\u001B[0m\u001B[0;34m\u001B[0m\u001B[0m\n\u001B[1;32m    406\u001B[0m \u001B[0;34m\u001B[0m\u001B[0m\n\u001B[0;32m--> 407\u001B[0;31m         \u001B[0mX\u001B[0m \u001B[0;34m=\u001B[0m \u001B[0mself\u001B[0m\u001B[0;34m.\u001B[0m\u001B[0m_validate_data\u001B[0m\u001B[0;34m(\u001B[0m\u001B[0mX\u001B[0m\u001B[0;34m,\u001B[0m \u001B[0maccept_sparse\u001B[0m\u001B[0;34m=\u001B[0m\u001B[0;34m\"csr\"\u001B[0m\u001B[0;34m,\u001B[0m \u001B[0mreset\u001B[0m\u001B[0;34m=\u001B[0m\u001B[0;32mFalse\u001B[0m\u001B[0;34m)\u001B[0m\u001B[0;34m\u001B[0m\u001B[0;34m\u001B[0m\u001B[0m\n\u001B[0m\u001B[1;32m    408\u001B[0m         \u001B[0mscores\u001B[0m \u001B[0;34m=\u001B[0m \u001B[0msafe_sparse_dot\u001B[0m\u001B[0;34m(\u001B[0m\u001B[0mX\u001B[0m\u001B[0;34m,\u001B[0m \u001B[0mself\u001B[0m\u001B[0;34m.\u001B[0m\u001B[0mcoef_\u001B[0m\u001B[0;34m.\u001B[0m\u001B[0mT\u001B[0m\u001B[0;34m,\u001B[0m \u001B[0mdense_output\u001B[0m\u001B[0;34m=\u001B[0m\u001B[0;32mTrue\u001B[0m\u001B[0;34m)\u001B[0m \u001B[0;34m+\u001B[0m \u001B[0mself\u001B[0m\u001B[0;34m.\u001B[0m\u001B[0mintercept_\u001B[0m\u001B[0;34m\u001B[0m\u001B[0;34m\u001B[0m\u001B[0m\n\u001B[1;32m    409\u001B[0m         \u001B[0;32mreturn\u001B[0m \u001B[0mscores\u001B[0m\u001B[0;34m.\u001B[0m\u001B[0mravel\u001B[0m\u001B[0;34m(\u001B[0m\u001B[0;34m)\u001B[0m \u001B[0;32mif\u001B[0m \u001B[0mscores\u001B[0m\u001B[0;34m.\u001B[0m\u001B[0mshape\u001B[0m\u001B[0;34m[\u001B[0m\u001B[0;36m1\u001B[0m\u001B[0;34m]\u001B[0m \u001B[0;34m==\u001B[0m \u001B[0;36m1\u001B[0m \u001B[0;32melse\u001B[0m \u001B[0mscores\u001B[0m\u001B[0;34m\u001B[0m\u001B[0;34m\u001B[0m\u001B[0m\n",
      "\u001B[0;32m/usr/local/lib/python3.7/dist-packages/sklearn/base.py\u001B[0m in \u001B[0;36m_validate_data\u001B[0;34m(self, X, y, reset, validate_separately, **check_params)\u001B[0m\n\u001B[1;32m    583\u001B[0m \u001B[0;34m\u001B[0m\u001B[0m\n\u001B[1;32m    584\u001B[0m         \u001B[0;32mif\u001B[0m \u001B[0;32mnot\u001B[0m \u001B[0mno_val_X\u001B[0m \u001B[0;32mand\u001B[0m \u001B[0mcheck_params\u001B[0m\u001B[0;34m.\u001B[0m\u001B[0mget\u001B[0m\u001B[0;34m(\u001B[0m\u001B[0;34m\"ensure_2d\"\u001B[0m\u001B[0;34m,\u001B[0m \u001B[0;32mTrue\u001B[0m\u001B[0;34m)\u001B[0m\u001B[0;34m:\u001B[0m\u001B[0;34m\u001B[0m\u001B[0;34m\u001B[0m\u001B[0m\n\u001B[0;32m--> 585\u001B[0;31m             \u001B[0mself\u001B[0m\u001B[0;34m.\u001B[0m\u001B[0m_check_n_features\u001B[0m\u001B[0;34m(\u001B[0m\u001B[0mX\u001B[0m\u001B[0;34m,\u001B[0m \u001B[0mreset\u001B[0m\u001B[0;34m=\u001B[0m\u001B[0mreset\u001B[0m\u001B[0;34m)\u001B[0m\u001B[0;34m\u001B[0m\u001B[0;34m\u001B[0m\u001B[0m\n\u001B[0m\u001B[1;32m    586\u001B[0m \u001B[0;34m\u001B[0m\u001B[0m\n\u001B[1;32m    587\u001B[0m         \u001B[0;32mreturn\u001B[0m \u001B[0mout\u001B[0m\u001B[0;34m\u001B[0m\u001B[0;34m\u001B[0m\u001B[0m\n",
      "\u001B[0;32m/usr/local/lib/python3.7/dist-packages/sklearn/base.py\u001B[0m in \u001B[0;36m_check_n_features\u001B[0;34m(self, X, reset)\u001B[0m\n\u001B[1;32m    399\u001B[0m         \u001B[0;32mif\u001B[0m \u001B[0mn_features\u001B[0m \u001B[0;34m!=\u001B[0m \u001B[0mself\u001B[0m\u001B[0;34m.\u001B[0m\u001B[0mn_features_in_\u001B[0m\u001B[0;34m:\u001B[0m\u001B[0;34m\u001B[0m\u001B[0;34m\u001B[0m\u001B[0m\n\u001B[1;32m    400\u001B[0m             raise ValueError(\n\u001B[0;32m--> 401\u001B[0;31m                 \u001B[0;34mf\"X has {n_features} features, but {self.__class__.__name__} \"\u001B[0m\u001B[0;34m\u001B[0m\u001B[0;34m\u001B[0m\u001B[0m\n\u001B[0m\u001B[1;32m    402\u001B[0m                 \u001B[0;34mf\"is expecting {self.n_features_in_} features as input.\"\u001B[0m\u001B[0;34m\u001B[0m\u001B[0;34m\u001B[0m\u001B[0m\n\u001B[1;32m    403\u001B[0m             )\n",
      "\u001B[0;31mValueError\u001B[0m: X has 784 features, but LogisticRegression is expecting 8514 features as input."
     ]
    },
    {
     "output_type": "display_data",
     "data": {
      "text/plain": [
       "<Figure size 864x864 with 2 Axes>"
      ],
      "image/png": "[encoded data removed]"
     },
     "metadata": {}
    }
   ]
  },
  {
   "cell_type": "markdown",
   "source": [
    "Plotting a learning curve for the polynomial features model"
   ],
   "metadata": {
    "id": "5lWBdV_qJEtw"
   }
  },
  {
   "cell_type": "code",
   "source": [
    "lr = LogisticRegression(n_jobs = -1, solver=\"saga\", tol = .01, max_iter = )\n",
    "train_sizes, train_scores, valid_scores = learning_curve(lr, X, y, train_sizes=[100, 300, 1000, 3000, 10000, 30000], cv=2)"
   ],
   "metadata": {
    "id": "Tkk7fFlcJLxG"
   },
   "execution_count": null,
   "outputs": []
  },
  {
   "cell_type": "code",
   "source": [
    "train_scores_mean = -train_scores.mean(axis = 1)\n",
    "validation_scores_mean = -valid_scores.mean(axis = 1)"
   ],
   "metadata": {
    "id": "sOMBZRlPJLxH"
   },
   "execution_count": null,
   "outputs": []
  },
  {
   "cell_type": "code",
   "source": [
    "plt.style.use('seaborn')\n",
    "plt.plot(train_sizes, train_scores_mean, label = 'Training error')\n",
    "plt.plot(train_sizes, validation_scores_mean, label = 'Validation error')\n",
    "plt.xlabel('Training set size', fontsize = 14)\n",
    "plt.legend()\n",
    "plt.show()\n",
    "\n",
    "#Does this show high bias (underfitting) or high variance (overfitting)?"
   ],
   "metadata": {
    "id": "UAOr0KeNJLxH"
   },
   "execution_count": null,
   "outputs": []
  }
 ]
}
