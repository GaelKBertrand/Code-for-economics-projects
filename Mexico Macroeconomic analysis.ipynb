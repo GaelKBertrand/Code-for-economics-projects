{
 "nbformat": 4,
 "nbformat_minor": 0,
 "metadata": {
  "colab": {
   "name": " Final exam_Bertrand.ipynb",
   "provenance": [],
   "collapsed_sections": []
  },
  "kernelspec": {
   "name": "python3",
   "display_name": "Python 3"
  },
  "language_info": {
   "name": "python"
  }
 },
 "cells": [
  {
   "cell_type": "markdown",
   "metadata": {
    "id": "_G9WYIyIW9RR"
   },
   "source": [
    "# Country choice: Mexico    , mi pais favorito\n",
    "\n",
    "![mexcio.jpeg](data:image/jpeg;base64,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)\n",
    "\n"
   ]
  },
  {
   "cell_type": "code",
   "metadata": {
    "id": "FsCpT1CpU-WJ",
    "executionInfo": {
     "status": "ok",
     "timestamp": 1642808019313,
     "user_tz": -330,
     "elapsed": 1975,
     "user": {
      "displayName": "Bertrand Kwibuka",
      "photoUrl": "https://lh3.googleusercontent.com/a-/AOh14GhRvCbz_WuDbIMDrPTEKSNqTbtcDv2w8bsCkexQdfs=s64",
      "userId": "03353322417714764277"
     }
    }
   },
   "source": [
    "#@title Default title text\n",
    "#installing all necessary dependencies \n",
    "\n",
    "import numpy as np\n",
    "import scipy.optimize as opt\n",
    "from scipy.optimize import fsolve\n",
    "import matplotlib.pyplot as plt\n",
    "import scipy.linalg as la\n",
    "import numpy as np\n",
    "from numpy.linalg import matrix_rank\n",
    "\n",
    "import sympy as sym\n",
    "from sympy import *\n",
    "from sympy import symbols, Matrix, Transpose\n",
    "from sympy import lambdify\n",
    "\n",
    "import math\n",
    "import cmath\n",
    "from math import *\n",
    "\n",
    "import mpmath as mp\n",
    "from math import sqrt\n",
    "from matplotlib import rcParams\n"
   ],
   "execution_count": 2,
   "outputs": []
  },
  {
   "cell_type": "markdown",
   "metadata": {
    "id": "mDCwx19SEQRo"
   },
   "source": [
    "# Inputing data for savings rate, capital output ratio and labor hours for Mexico to plot data plots\n"
   ]
  },
  {
   "cell_type": "code",
   "metadata": {
    "id": "G5z8BKK_fFys",
    "executionInfo": {
     "status": "error",
     "timestamp": 1642807989332,
     "user_tz": -330,
     "elapsed": 8,
     "user": {
      "displayName": "Bertrand Kwibuka",
      "photoUrl": "https://lh3.googleusercontent.com/a-/AOh14GhRvCbz_WuDbIMDrPTEKSNqTbtcDv2w8bsCkexQdfs=s64",
      "userId": "03353322417714764277"
     }
    },
    "colab": {
     "base_uri": "https://localhost:8080/",
     "height": 272
    },
    "outputId": "407be632-64f9-4848-c721-9debfa9ac30c"
   },
   "source": [
    "\n",
    "#timing \n",
    "time=[t for t in range(1970,2100)]\n",
    "\n",
    "#Pop_growth: \n",
    "\n",
    "s_data = [0.194,0.177,0.181,0.191,0.196,0.192,0.189,0.208,0.208,0.223,0.223,0.217,0.225,0.258,0.233,0.225,0.177,0.216,0.208,0.199,0.194,0.182,0.16,0.191,0.2,0.185,0.175,0.179,0.173,0.175,0.161,0.142,0.144,0.193,0.211,0.202,0.215,0.214,0.208,0.199,0.203]\n",
    "\n",
    "#K/Y: \n",
    "\n",
    "ky_data = np.array([1.3,1.413,1.449,1.452,1.52,1.61,1.582,1.677,1.676,1.674,1.679,1.676,1.508,1.851,1.943,1.828,1.803,1.786,2.186,2.183,2.134,2.101,2.098,2.151,1.986,2.213,2.243,2.165,2.183,2.196,2.263,2.437,2.494,2.57,2.544,2.562,2.517,2.519,2.588,2.898,2.802])\n",
    "\n",
    "#labor hours: \n",
    "\n",
    "l_data = np.array([20.355,20.778,21.208,21.627,22.035,22.685,22.889,23.076,23.406,24.057,24.719,24.785,24.878,24.24,24.474,24.847,24.792,24.813,24.859,24.995,25.127,24.447,24.5,24.79,25.398,24.75,25.529,26.979,26.208,26.836,26.065,25.3,26.028,25.164,25.35,25.777,25.551,25.234,25.816,23.924,25.908])\n",
    "\n"
   ],
   "execution_count": 1,
   "outputs": [
    {
     "output_type": "error",
     "ename": "NameError",
     "evalue": "ignored",
     "traceback": [
      "\u001B[0;31m---------------------------------------------------------------------------\u001B[0m",
      "\u001B[0;31mNameError\u001B[0m                                 Traceback (most recent call last)",
      "\u001B[0;32m<ipython-input-1-4c1fa48d8063>\u001B[0m in \u001B[0;36m<module>\u001B[0;34m()\u001B[0m\n\u001B[1;32m      9\u001B[0m \u001B[0;31m#K/Y:\u001B[0m\u001B[0;34m\u001B[0m\u001B[0;34m\u001B[0m\u001B[0;34m\u001B[0m\u001B[0m\n\u001B[1;32m     10\u001B[0m \u001B[0;34m\u001B[0m\u001B[0m\n\u001B[0;32m---> 11\u001B[0;31m \u001B[0mky_data\u001B[0m \u001B[0;34m=\u001B[0m \u001B[0mnp\u001B[0m\u001B[0;34m.\u001B[0m\u001B[0marray\u001B[0m\u001B[0;34m(\u001B[0m\u001B[0;34m[\u001B[0m\u001B[0;36m1.3\u001B[0m\u001B[0;34m,\u001B[0m\u001B[0;36m1.413\u001B[0m\u001B[0;34m,\u001B[0m\u001B[0;36m1.449\u001B[0m\u001B[0;34m,\u001B[0m\u001B[0;36m1.452\u001B[0m\u001B[0;34m,\u001B[0m\u001B[0;36m1.52\u001B[0m\u001B[0;34m,\u001B[0m\u001B[0;36m1.61\u001B[0m\u001B[0;34m,\u001B[0m\u001B[0;36m1.582\u001B[0m\u001B[0;34m,\u001B[0m\u001B[0;36m1.677\u001B[0m\u001B[0;34m,\u001B[0m\u001B[0;36m1.676\u001B[0m\u001B[0;34m,\u001B[0m\u001B[0;36m1.674\u001B[0m\u001B[0;34m,\u001B[0m\u001B[0;36m1.679\u001B[0m\u001B[0;34m,\u001B[0m\u001B[0;36m1.676\u001B[0m\u001B[0;34m,\u001B[0m\u001B[0;36m1.508\u001B[0m\u001B[0;34m,\u001B[0m\u001B[0;36m1.851\u001B[0m\u001B[0;34m,\u001B[0m\u001B[0;36m1.943\u001B[0m\u001B[0;34m,\u001B[0m\u001B[0;36m1.828\u001B[0m\u001B[0;34m,\u001B[0m\u001B[0;36m1.803\u001B[0m\u001B[0;34m,\u001B[0m\u001B[0;36m1.786\u001B[0m\u001B[0;34m,\u001B[0m\u001B[0;36m2.186\u001B[0m\u001B[0;34m,\u001B[0m\u001B[0;36m2.183\u001B[0m\u001B[0;34m,\u001B[0m\u001B[0;36m2.134\u001B[0m\u001B[0;34m,\u001B[0m\u001B[0;36m2.101\u001B[0m\u001B[0;34m,\u001B[0m\u001B[0;36m2.098\u001B[0m\u001B[0;34m,\u001B[0m\u001B[0;36m2.151\u001B[0m\u001B[0;34m,\u001B[0m\u001B[0;36m1.986\u001B[0m\u001B[0;34m,\u001B[0m\u001B[0;36m2.213\u001B[0m\u001B[0;34m,\u001B[0m\u001B[0;36m2.243\u001B[0m\u001B[0;34m,\u001B[0m\u001B[0;36m2.165\u001B[0m\u001B[0;34m,\u001B[0m\u001B[0;36m2.183\u001B[0m\u001B[0;34m,\u001B[0m\u001B[0;36m2.196\u001B[0m\u001B[0;34m,\u001B[0m\u001B[0;36m2.263\u001B[0m\u001B[0;34m,\u001B[0m\u001B[0;36m2.437\u001B[0m\u001B[0;34m,\u001B[0m\u001B[0;36m2.494\u001B[0m\u001B[0;34m,\u001B[0m\u001B[0;36m2.57\u001B[0m\u001B[0;34m,\u001B[0m\u001B[0;36m2.544\u001B[0m\u001B[0;34m,\u001B[0m\u001B[0;36m2.562\u001B[0m\u001B[0;34m,\u001B[0m\u001B[0;36m2.517\u001B[0m\u001B[0;34m,\u001B[0m\u001B[0;36m2.519\u001B[0m\u001B[0;34m,\u001B[0m\u001B[0;36m2.588\u001B[0m\u001B[0;34m,\u001B[0m\u001B[0;36m2.898\u001B[0m\u001B[0;34m,\u001B[0m\u001B[0;36m2.802\u001B[0m\u001B[0;34m]\u001B[0m\u001B[0;34m)\u001B[0m\u001B[0;34m\u001B[0m\u001B[0;34m\u001B[0m\u001B[0m\n\u001B[0m\u001B[1;32m     12\u001B[0m \u001B[0;34m\u001B[0m\u001B[0m\n\u001B[1;32m     13\u001B[0m \u001B[0;31m#labor hours:\u001B[0m\u001B[0;34m\u001B[0m\u001B[0;34m\u001B[0m\u001B[0;34m\u001B[0m\u001B[0m\n",
      "\u001B[0;31mNameError\u001B[0m: name 'np' is not defined"
     ]
    }
   ]
  },
  {
   "cell_type": "markdown",
   "metadata": {
    "id": "j5dlR5mfBdgN"
   },
   "source": [
    "# **Working on the model ** "
   ]
  },
  {
   "cell_type": "code",
   "metadata": {
    "id": "iR6XRNjfSN2H"
   },
   "source": [
    "# Set parameter values\n",
    "\n",
    "# Iteration parameters\n",
    "S = 100 # number of periods in the shooting\n",
    "niter=200 # number of possible trials of the intial value\n",
    "epsilon=.00005 #convergence criterion\n",
    "\n",
    "# Model Parameters\n",
    "theta = 0.3 # Share of capital in output rents\n",
    "delta = 0.035 # Capital depreciation rate\n",
    "alpha = 3.1 # disutility from labor parameter\n",
    "beta = 0.946 # Discount factor\n",
    "T = 3.9*24 # Total number of hours owned in a week"
   ],
   "execution_count": null,
   "outputs": []
  },
  {
   "cell_type": "code",
   "metadata": {
    "id": "r4W6OynaBYuQ"
   },
   "source": [
    "# In the guess of the initial consumption, we will feed in the actual time series of the exogenous variables \n",
    "# Population and TFP grow at exogenous rate\n",
    "# Capital taxes are 0.2 in the first 20 years and then 0.12 forever\n",
    "# Government spending share fluctuates around 0.13 (where error is normally distribution with mean 0 and sd 0.0005) for the first 20 years\n",
    "# In the long run, government spending share is constant\n",
    "\n",
    "\n",
    "gamma = 1.001 # TFP to the power 1/(1-theta) growth rate. Long run growth rate of per capita income \n",
    "gA_ast = gamma**(1-theta) # = (1+g) in our model. TFP growth rate\n",
    "n_ast = 1.020 # population growth rate. n_ast = (1+n) in our model\n",
    "\n",
    "chi_ast = 0.107 # long-run government share\n",
    "tau_ast = 0.084 # long-run capital tax\n",
    "\n",
    "##\n",
    "\n",
    "##Check the sources of the following parameters and how they calculated them: \n",
    "\n",
    "##\n",
    "\n",
    "H0 = 22127*1000000/52\n",
    "N0 = 25654920\n",
    "k0 = 1.95**(1/(1-theta))*(H0/N0)\n",
    "A0 = 1**(1-theta)"
   ],
   "execution_count": null,
   "outputs": []
  },
  {
   "cell_type": "code",
   "metadata": {
    "id": "nwQ-sQ0-BYxB",
    "colab": {
     "base_uri": "https://localhost:8080/"
    },
    "executionInfo": {
     "status": "ok",
     "timestamp": 1628888320223,
     "user_tz": -330,
     "elapsed": 9,
     "user": {
      "displayName": "Bertrand Kwibuka",
      "photoUrl": "https://lh3.googleusercontent.com/a-/AOh14GjTN0MNu3HMdyI-k1Xwr3e4pF521hd01Rv-Qhh-wg=s64",
      "userId": "14120959365019312055"
     }
    },
    "outputId": "41ab2c37-cf7b-4f0d-b889-0b6356acb796"
   },
   "source": [
    "# SS- Steady State\n",
    "c1 = theta*(1/(1-tau_ast)*(gA_ast**(1/(1-theta))/beta - 1)+ delta)**(-1) # steady state (k/h)**(1-theta)\n",
    "c2 = 1 - chi_ast - c1*(gA_ast**(1/(1-theta))*n_ast - 1 + delta)  # steady state c/y ratio\n",
    "c3 = c2*alpha/(1-theta) # steady state (barh - h)/h\n",
    "h_ast = 1/(1+c3)*T\n",
    "k_ast = c1**(1/(1-theta))*h_ast\n",
    "y_ast = k_ast**theta*h_ast**(1-theta)\n",
    "c_ast = c2*y_ast\n",
    "\n",
    "print(\"[k_ast, c_ast, h_ast] = \", k_ast, c_ast, h_ast)"
   ],
   "execution_count": null,
   "outputs": [
    {
     "output_type": "stream",
     "text": [
      "[k_ast, c_ast, h_ast] =  109.4716511015576 25.95525388038508 22.29159035940587\n"
     ],
     "name": "stdout"
    }
   ]
  },
  {
   "cell_type": "code",
   "metadata": {
    "id": "0z6eEWYvBY1b",
    "colab": {
     "base_uri": "https://localhost:8080/"
    },
    "executionInfo": {
     "status": "ok",
     "timestamp": 1628888321700,
     "user_tz": -330,
     "elapsed": 12,
     "user": {
      "displayName": "Bertrand Kwibuka",
      "photoUrl": "https://lh3.googleusercontent.com/a-/AOh14GjTN0MNu3HMdyI-k1Xwr3e4pF521hd01Rv-Qhh-wg=s64",
      "userId": "14120959365019312055"
     }
    },
    "outputId": "e9e6eb79-fc50-4f9a-fde9-910f1c41570a"
   },
   "source": [
    "# Inputting series of exogenous variables \n",
    "\n",
    "#timing \n",
    "\n",
    "time = 100\n",
    "\n",
    "# defining variables over time \n",
    "\n",
    "chi =[1]*time \n",
    "tau =[1]*time\n",
    "gt  =[1]*time\n",
    "nt  =[1]*time\n",
    "\n",
    "\n",
    "\n",
    "#chi_tt =np.array([0.05128205128,0.1136363636,0.05376344086,0,0.1226415094,0.06194690265,-0.01801801802,0.008928571429,0,-0.07692307692,0.07142857143,0.008849557522,-0.2021276596,0.04081632653,-0.01030927835,0,-0.05434782609,-0.04545454545,-0.02325581395,0.01149425287,0.06451612903,0.08823529412,0.2330827068,-0.0390625,0.06569343066,-0.06201550388,-0.06611570248,-0.01680672269,-0.01709401709,-0.01739130435,0.008620689655,0.008547008547,-0.01739130435,-0.06481481481,0.009174311927,-0.009259259259,0,0.02702702703,0.09016393443,-0.03389830508]),\n",
    "#tau_ast  = np.array([0,0,0,0,0,0,0,0,0,0,0,0,0,0,0,0,0,-3.059405941,0,0,0,0,0,-0.05208333333,-0.2631578947,-0.08571428571,0.1025641026,0.03703703704,0.05813953488,0.01149425287,0.06451612903,-0.1204819277,-0.1216216216,-0.1384615385,0.01515151515,0.04347826087,0.06756756757,0.03896103896,0.0253164557,0.0125])\n",
    "#gA_ast   = np.array([-0.04775657236,0.01870605515,0.02767060001,-0.01228658208,-0.02944335504,0.008092279059,-0.03257884483,0.03264937749,0.02927819843,0.01777221813,0.04772793558,0.00621966604,-0.1367506783,-0.02954874869,-0.0008371470768,-0.05926115541,-0.01379724119,-0.1151531636,0.004046760459,0.006944048896,0.02952848157,0.0006797218319,-0.001796032284,0.06658728305,-0.06645780551,0.01314596532,0.02735068795,0.01180369654,-0.01875648437,0.01723391664,-0.02258941881,0.006763970741,-0.01936418702,0.00879879299,0.01002316835,0.01921003344,0.0003104206106,-0.01792552347,-0.08240297309,0.04720472149,])\n",
    "#s_data = [0.194,0.177,0.181,0.191,0.196,0.192,0.189,0.208,0.208,0.223,0.223,0.217,0.225,0.258,0.233,0.225,0.177,0.216,0.208,0.199,0.194,0.182,0.16,0.191,0.2,0.185,0.175,0.179,0.173,0.175,0.161,0.142,0.144,0.193,0.211,0.202,0.215,0.214,0.208,0.199,0.203]\n",
    "#gA_ast = np.array([1.0000,  0.9544 ,  0.9726 ,  1.0003 ,  0.9882 ,  0.9599 ,  0.9677 ,  0.9372 ,  0.9688 ,  0.9980 ,  1.0161 ,  1.0670 ,  1.0737 ,  0.9445 ,  0.9174 ,  0.9167 ,  0.8654 ,  0.8536 ,  0.7655 ,  0.7686 ,  0.7739 ,  0.7975 ,  0.7980 ,  0.7966 ,  0.8534 ,  0.8002 ,  0.8109 ,  0.8337 ,  0.8437 ,  0.8281 ,  0.8427 ,  0.8240 ,  0.8297 ,  0.8139 ,  0.8211 ,  0.8294 ,  0.8457 ,  0.8459 ,  0.8310 ,  0.7678 ,  0.8058 ])\n",
    "\n",
    "\n",
    "\n",
    "# Trajectory of Exogenous Variables\n",
    "\n",
    "\n",
    "chi_ast  = np.array([0.074,0.078,0.088,0.093,0.093,0.106,0.113,0.111,0.112,0.112,0.104,0.112,0.113,0.094,0.098,0.097,0.097,0.092,0.088,0.086,0.087,0.093,0.102,0.133,0.128,0.137,0.129,0.121,0.119,0.117,0.115,0.116,0.117,0.115,0.108,0.109,0.108,0.108,0.111,0.122,0.118])\n",
    "\n",
    "tau_ast  = np.array([0.41,0.41,0.41,0.41,0.41,0.41,0.41,0.41,0.41,0.41,0.41,0.41,0.41,0.41,0.41,0.41,0.41,0.41,0.101,0.101,0.101,0.101,0.101,0.101,0.096,0.076,0.07,0.078,0.081,0.086,0.087,0.093,0.083,0.074,0.065,0.066,0.069,0.074,0.077,0.079,0.08])\n",
    "\n",
    "n_ast    = np.array([1.032,1.032,1.033,1.034,1.03,1.032,1.033,1.033,1.031,1.034,1.032,1.031,1.031,1.033,1.034,1.035,1.035,1.034,1.032,1.03,1.03,1.029,1.028,1.026,1.025,1.024,1.023,1.022,1.022,1.02,1.019,1.018,1.017,1.018,1.02,1.021,1.022,1.022,1.022,1.022,1.021])\n",
    "\n",
    "gA_ast   = np.array([1,0.9678715503,1.013306006,1.019836632,0.9914882317,0.9798921573,1.005703845,0.977808355,1.023508041,1.021018595,1.012631541,1.03482585,1.004376913,0.9141855336,0.979821939,0.9994144137,0.9605011021,0.9904538089,0.9265435465,1.002842512,1.004889705,1.021202911,1.00047608,0.9987446936,1.049417738,0.9559593514,1.009306233,1.019601818,1.008346378,0.987076312,1.012243247,0.9844849781,1.004762168,0.9866643574,1.006205587,1.007076538,1.013670458,1.000217352,0.9876402875,0.9460796837,1.034428036])\n",
    "\n",
    "\n",
    "#taking care of steady states/ long term values: \n",
    "\n",
    "# 1. chi[t]:\n",
    "for i in range(0, time):\n",
    "    \n",
    "    if i < len(chi_ast):\n",
    "        chi[i] = chi_ast[i]\n",
    "    else:\n",
    "        chi[i] = chi_ast[len(chi_ast)-1]\n",
    "# 2.tau[t]:\n",
    "for i in range(0, time):\n",
    "    \n",
    "    if i < len(tau_ast):\n",
    "        tau[i] = tau_ast[i]\n",
    "    else:\n",
    "        tau[i] = tau_ast[len(tau_ast)-1]\n",
    "\n",
    "# 3. gt[t]:\n",
    "for i in range(0, time):\n",
    "    \n",
    "    if i < len(gA_ast):\n",
    "        gt[i] = gA_ast[i]\n",
    "    else:\n",
    "        gt[i] = gA_ast[len(gA_ast)-1]\n",
    "\n",
    "# 4. nt[t]:\n",
    "for i in range(0, time):\n",
    "    \n",
    "    if i < len(n_ast):\n",
    "        nt[i] = n_ast[i]\n",
    "    else:\n",
    "        nt[i] = n_ast[len(n_ast)-1]\n",
    "\n",
    "#verifying if they fit time value: \n",
    "\n",
    "print(len(chi))\n",
    "print(chi)\n",
    "\n",
    "print(len(tau))\n",
    "print(tau)\n",
    "\n",
    "print(len(gt))\n",
    "print(gt)\n",
    "\n",
    "print(len(nt))\n",
    "print(nt)\n",
    "\n",
    "# Plot of Exogenous Variables\n",
    "#Check plots on the last graph "
   ],
   "execution_count": null,
   "outputs": [
    {
     "output_type": "stream",
     "text": [
      "100\n",
      "[0.074, 0.078, 0.088, 0.093, 0.093, 0.106, 0.113, 0.111, 0.112, 0.112, 0.104, 0.112, 0.113, 0.094, 0.098, 0.097, 0.097, 0.092, 0.088, 0.086, 0.087, 0.093, 0.102, 0.133, 0.128, 0.137, 0.129, 0.121, 0.119, 0.117, 0.115, 0.116, 0.117, 0.115, 0.108, 0.109, 0.108, 0.108, 0.111, 0.122, 0.118, 0.118, 0.118, 0.118, 0.118, 0.118, 0.118, 0.118, 0.118, 0.118, 0.118, 0.118, 0.118, 0.118, 0.118, 0.118, 0.118, 0.118, 0.118, 0.118, 0.118, 0.118, 0.118, 0.118, 0.118, 0.118, 0.118, 0.118, 0.118, 0.118, 0.118, 0.118, 0.118, 0.118, 0.118, 0.118, 0.118, 0.118, 0.118, 0.118, 0.118, 0.118, 0.118, 0.118, 0.118, 0.118, 0.118, 0.118, 0.118, 0.118, 0.118, 0.118, 0.118, 0.118, 0.118, 0.118, 0.118, 0.118, 0.118, 0.118]\n",
      "100\n",
      "[0.41, 0.41, 0.41, 0.41, 0.41, 0.41, 0.41, 0.41, 0.41, 0.41, 0.41, 0.41, 0.41, 0.41, 0.41, 0.41, 0.41, 0.41, 0.101, 0.101, 0.101, 0.101, 0.101, 0.101, 0.096, 0.076, 0.07, 0.078, 0.081, 0.086, 0.087, 0.093, 0.083, 0.074, 0.065, 0.066, 0.069, 0.074, 0.077, 0.079, 0.08, 0.08, 0.08, 0.08, 0.08, 0.08, 0.08, 0.08, 0.08, 0.08, 0.08, 0.08, 0.08, 0.08, 0.08, 0.08, 0.08, 0.08, 0.08, 0.08, 0.08, 0.08, 0.08, 0.08, 0.08, 0.08, 0.08, 0.08, 0.08, 0.08, 0.08, 0.08, 0.08, 0.08, 0.08, 0.08, 0.08, 0.08, 0.08, 0.08, 0.08, 0.08, 0.08, 0.08, 0.08, 0.08, 0.08, 0.08, 0.08, 0.08, 0.08, 0.08, 0.08, 0.08, 0.08, 0.08, 0.08, 0.08, 0.08, 0.08]\n",
      "100\n",
      "[1.0, 0.9678715503, 1.013306006, 1.019836632, 0.9914882317, 0.9798921573, 1.005703845, 0.977808355, 1.023508041, 1.021018595, 1.012631541, 1.03482585, 1.004376913, 0.9141855336, 0.979821939, 0.9994144137, 0.9605011021, 0.9904538089, 0.9265435465, 1.002842512, 1.004889705, 1.021202911, 1.00047608, 0.9987446936, 1.049417738, 0.9559593514, 1.009306233, 1.019601818, 1.008346378, 0.987076312, 1.012243247, 0.9844849781, 1.004762168, 0.9866643574, 1.006205587, 1.007076538, 1.013670458, 1.000217352, 0.9876402875, 0.9460796837, 1.034428036, 1.034428036, 1.034428036, 1.034428036, 1.034428036, 1.034428036, 1.034428036, 1.034428036, 1.034428036, 1.034428036, 1.034428036, 1.034428036, 1.034428036, 1.034428036, 1.034428036, 1.034428036, 1.034428036, 1.034428036, 1.034428036, 1.034428036, 1.034428036, 1.034428036, 1.034428036, 1.034428036, 1.034428036, 1.034428036, 1.034428036, 1.034428036, 1.034428036, 1.034428036, 1.034428036, 1.034428036, 1.034428036, 1.034428036, 1.034428036, 1.034428036, 1.034428036, 1.034428036, 1.034428036, 1.034428036, 1.034428036, 1.034428036, 1.034428036, 1.034428036, 1.034428036, 1.034428036, 1.034428036, 1.034428036, 1.034428036, 1.034428036, 1.034428036, 1.034428036, 1.034428036, 1.034428036, 1.034428036, 1.034428036, 1.034428036, 1.034428036, 1.034428036, 1.034428036]\n",
      "100\n",
      "[1.032, 1.032, 1.033, 1.034, 1.03, 1.032, 1.033, 1.033, 1.031, 1.034, 1.032, 1.031, 1.031, 1.033, 1.034, 1.035, 1.035, 1.034, 1.032, 1.03, 1.03, 1.029, 1.028, 1.026, 1.025, 1.024, 1.023, 1.022, 1.022, 1.02, 1.019, 1.018, 1.017, 1.018, 1.02, 1.021, 1.022, 1.022, 1.022, 1.022, 1.021, 1.021, 1.021, 1.021, 1.021, 1.021, 1.021, 1.021, 1.021, 1.021, 1.021, 1.021, 1.021, 1.021, 1.021, 1.021, 1.021, 1.021, 1.021, 1.021, 1.021, 1.021, 1.021, 1.021, 1.021, 1.021, 1.021, 1.021, 1.021, 1.021, 1.021, 1.021, 1.021, 1.021, 1.021, 1.021, 1.021, 1.021, 1.021, 1.021, 1.021, 1.021, 1.021, 1.021, 1.021, 1.021, 1.021, 1.021, 1.021, 1.021, 1.021, 1.021, 1.021, 1.021, 1.021, 1.021, 1.021, 1.021, 1.021, 1.021]\n"
     ],
     "name": "stdout"
    }
   ]
  },
  {
   "cell_type": "code",
   "metadata": {
    "id": "tGAEraGwBwku",
    "colab": {
     "base_uri": "https://localhost:8080/"
    },
    "executionInfo": {
     "status": "ok",
     "timestamp": 1628888324229,
     "user_tz": -330,
     "elapsed": 714,
     "user": {
      "displayName": "Bertrand Kwibuka",
      "photoUrl": "https://lh3.googleusercontent.com/a-/AOh14GjTN0MNu3HMdyI-k1Xwr3e4pF521hd01Rv-Qhh-wg=s64",
      "userId": "14120959365019312055"
     }
    },
    "outputId": "0a147adc-a316-4c0c-d69a-40554d125ec7"
   },
   "source": [
    "#  \n",
    "\n",
    "# THE SHOOTING ALGORITHM \n",
    "\n",
    "#\n",
    "\n",
    "#T = 5*24 # Total number of hours owned in a week\n",
    "\n",
    "# Initial Conditions for capital\n",
    "\n",
    "k = [k0]*(S)\n",
    "c = [1]*(S)\n",
    "h = [1]*(S)\n",
    "\n",
    "#Initial condition for consumption\n",
    "c_0_L = .12 *c_ast\n",
    "c_0_H = 15 *c_ast\n",
    "\n",
    "\n",
    "#Solve for k_t+1 and c_t+1 and h_t+1 until convergence along the saddle path\n",
    "\n",
    "niter = 500\n",
    "S = 100\n",
    "\n",
    "flag  = 0\n",
    "\n",
    "# k_t+1*(1+g)^(1/1-theta)*(1+n)=(1-chi_t)*(k_t^theta*h_t^(1-theta))-c_t+(1-delta)*k_t\n",
    "#Start iteration\n",
    "for j in range(0,niter):\n",
    "    c[0] = (c_0_L+c_0_H)/2 #Initial guess for c_o\n",
    "    #print(c_0_L , c_0_H, c[0])\n",
    "    def func(x): \n",
    "        return T - alpha*c[0]/((1-theta))*(k[0]/x)**(-(theta)) - x #Consumption-Leisure choice\n",
    "\n",
    "    root = fsolve(func, 15)   #check if I can increase from 15 to 20 \n",
    "    h[0] = root[0]\n",
    "    #print(k[0], c[0], h[0])\n",
    "    \n",
    "    #Generate paths for c and k given intitial guess for c_0\n",
    "    for t in range(0,S-1):\n",
    "        k[t+1] = (k[t]**theta*h[t]**(1-theta)*(1- chi[t]) +(1-delta)*k[t]-c[t])/(gt[t]**(1/(1-theta))*nt[t])\n",
    "        #print(k[t+1])\n",
    "        \n",
    "        \n",
    "        if k[t+1] < 0:\n",
    "            flag = 1\n",
    "            #print(flag)\n",
    "            break\n",
    "        if k[t+1]>2*k_ast:\n",
    "            flag =2\n",
    "            #print(flag)\n",
    "            break\n",
    "            \n",
    "        def cfunc(z):\n",
    "            # Solves for c_t+1 and h_t+1 simultaneously\n",
    "            fc = z[0]\n",
    "            fh = z[1]\n",
    "            f1 = T - alpha*fc/((1-theta))*(k[t+1]/fh)**(-(theta)) - fh \n",
    "            f2 = fc/c[t] - beta/(gt[t]**(1/(1-theta)))*(1 + (1-tau[t+1])*(theta*(k[t+1]/fh)**(-(1-theta))-delta)) \n",
    "            return [f1, f2]\n",
    "        \n",
    "        sol = fsolve(cfunc, [15, 15])\n",
    "        #print(\"anuradha\", sol)\n",
    "        c[t+1] = sol[0]\n",
    "        h[t+1] = sol[1]\n",
    "        \n",
    "        # Check for convergence\n",
    "        # Update the intitial value if not convergence\n",
    "        if t== S-2:\n",
    "            #print(\"anuradha\",k[t+1], c[t+1], h[t+1])\n",
    "            if (abs(k[S-1]-k_ast)/k_ast < epsilon) and abs((c[S-1] -c_ast)/c_ast < epsilon):\n",
    "                flag = 10\n",
    "                print( \"Converged in iteration \", j)\n",
    "                break\n",
    "            # Update initial guess for c\n",
    "            elif (k[S-1]-k_ast)/k_ast <=epsilon:\n",
    "                flag =1\n",
    "            elif (k[S-1] - k_ast)/k_ast >= epsilon:\n",
    "                flag =2\n",
    "        \n",
    "        \n",
    "    if flag == 1:\n",
    "        c_0_H = c[0]\n",
    "        #print(\"anuradha\")\n",
    "    elif flag == 2:\n",
    "        c_0_L = c[0]\n",
    "        #print(\"anuradha2\")\n",
    "    elif flag == 10:\n",
    "        break\n",
    "        \n",
    "\n",
    "\n",
    "        #Ends iteration loop\n",
    "        #End shooting algorithm if reached max number of iterations\n",
    "    \n",
    "if j == niter-1:\n",
    "    print('Failure in Convergence!')\n",
    "  \n"
   ],
   "execution_count": null,
   "outputs": [
    {
     "output_type": "stream",
     "text": [
      "/usr/local/lib/python3.7/dist-packages/ipykernel_launcher.py:33: RuntimeWarning: invalid value encountered in power\n",
      "/usr/local/lib/python3.7/dist-packages/scipy/optimize/minpack.py:162: RuntimeWarning: The iteration is not making good progress, as measured by the \n",
      "  improvement from the last ten iterations.\n",
      "  warnings.warn(msg, RuntimeWarning)\n",
      "/usr/local/lib/python3.7/dist-packages/ipykernel_launcher.py:58: RuntimeWarning: invalid value encountered in double_scalars\n",
      "/usr/local/lib/python3.7/dist-packages/ipykernel_launcher.py:59: RuntimeWarning: invalid value encountered in double_scalars\n"
     ],
     "name": "stderr"
    },
    {
     "output_type": "stream",
     "text": [
      "Converged in iteration  47\n"
     ],
     "name": "stdout"
    }
   ]
  },
  {
   "cell_type": "code",
   "metadata": {
    "id": "N1cZmCL9BwoM",
    "colab": {
     "base_uri": "https://localhost:8080/"
    },
    "executionInfo": {
     "status": "ok",
     "timestamp": 1628888326053,
     "user_tz": -330,
     "elapsed": 7,
     "user": {
      "displayName": "Bertrand Kwibuka",
      "photoUrl": "https://lh3.googleusercontent.com/a-/AOh14GjTN0MNu3HMdyI-k1Xwr3e4pF521hd01Rv-Qhh-wg=s64",
      "userId": "14120959365019312055"
     }
    },
    "outputId": "0337ee27-362b-4f4f-a5f7-19692f5ccf7f"
   },
   "source": [
    "##\n",
    "\n",
    "## Checking steady states and long term values equivalence: looks good \n",
    "\n",
    "##\n",
    "\n",
    "t = S-2\n",
    "print(k[t+1], c[t+1], h[t+1])\n",
    "print([k_ast, c_ast, h_ast])\n",
    "print(c[0])\n",
    "print(h)\n",
    "\n",
    "\n",
    "print(epsilon)\n",
    "print((k[S-1]-k_ast)/k_ast <epsilon)\n",
    "print((c[S-1]-c_ast)/c_ast <epsilon)\n",
    "print((h[S-1]-h_ast)/h_ast)"
   ],
   "execution_count": null,
   "outputs": [
    {
     "output_type": "stream",
     "text": [
      "109.46894590726568 19.085219200048517 34.05657463155685\n",
      "[109.4716511015576, 25.95525388038508, 22.29159035940587]\n",
      "18.939424965625754\n",
      "[23.584572973054453, 23.55028833801707, 22.589921069942577, 22.887071046629117, 23.424185026357733, 23.263421768656496, 22.683306640437763, 22.831797078272533, 22.159105730391058, 22.86675758739466, 23.557650840441955, 24.168149067053513, 25.56466923781911, 26.231208947124617, 24.07265349899465, 23.994377125600444, 24.59233467424538, 23.98002466567967, 23.703942644855005, 21.43581890131839, 21.596767216309164, 21.797926748207402, 22.466466933143312, 22.486506543280157, 22.34492660224433, 23.673038251914228, 22.121483138146157, 22.258565867081426, 22.72372241324377, 22.863118332751437, 22.389773608968163, 22.709365966366374, 22.17944618804327, 22.253597479431527, 21.75385366715855, 21.833242325647017, 21.91007704348078, 22.164620132237214, 22.008759969691653, 21.449991948358925, 19.559120475288058, 20.229569001581915, 20.799932899733324, 21.280253949020672, 21.68132162791712, 22.013859635831775, 22.287984234942076, 22.512890040731662, 22.696707388884498, 22.846477926076883, 22.968204378964334, 23.0669415482187, 23.146905725541927, 23.211587857001117, 23.26386173974698, 23.30608263889657, 23.340174373463363, 23.36770455068707, 23.389948557000427, 23.40794338702945, 23.422532582419546, 23.43440357658337, 23.44411867567795, 23.45214079821362, 23.458854974969064, 23.464586494597707, 23.469616478213744, 23.474195583625345, 23.47855647953383, 23.482925693553568, 23.487535426579836, 23.492635941274226, 23.498509176188126, 23.505484311935046, 23.51395612521544, 23.524407114362646, 23.53743457061785, 23.553784006202623, 23.574390635105903, 23.600430932525114, 23.633386662681783, 23.675124135604772, 23.727991779186034, 23.79493930011915, 23.87966159987587, 23.98676996081249, 24.121991446124063, 24.292394427132884, 24.50663294775198, 24.775194412680914, 25.110623036406828, 25.527675247403444, 26.0433436190331, 26.67666600792292, 27.448223112088613, 28.379231566427425, 29.490174805381958, 30.798991716960394, 32.31896307063503, 34.05657463155685]\n",
      "5e-05\n",
      "True\n",
      "True\n",
      "0.5277768020345296\n"
     ],
     "name": "stdout"
    }
   ]
  },
  {
   "cell_type": "code",
   "metadata": {
    "id": "eMfm5RyiJYLh"
   },
   "source": [
    "#Savings rate and K/Y\n",
    "\n",
    "S= 41\n",
    "\n",
    "\n",
    "A=[A0]*S\n",
    "N=[N0]*S\n",
    "C=[0]*S\n",
    "K=[0]*S\n",
    "Y=[0]*S\n",
    "G=[0]*S\n",
    "s=[0]*S\n",
    "ky_ratio=[0]*S\n",
    "\n",
    "#redefining 'n_ast' as a scalar so that N0 can be calculated:\n",
    "n_ast = 1.020\n",
    "\n",
    "for t in range(1,S):\n",
    "  A[t]=A0*gamma**t\n",
    "  N[t]=(N0*n_ast)**t\n",
    "\n",
    "for t in range(S):\n",
    "  C[t]=c[t]*A[t]*N[t]\n",
    "  K[t]=k[t]*A[t]*N[t]\n",
    "  Y[t]=(A[t]**(1-theta))*(K[t]**theta)*((h[t]*N[t])**(1-theta))\n",
    "  G[t]=chi_t[t]*Y[t]\n",
    "  s[t]=(Y[t]-G[t]-C[t])/Y[t]\n",
    "  ky_ratio[t]=K[t]/Y[t]"
   ],
   "execution_count": null,
   "outputs": []
  },
  {
   "cell_type": "markdown",
   "metadata": {
    "id": "bqSgzy0U_mak"
   },
   "source": [
    "# Plotting data and model plots "
   ]
  },
  {
   "cell_type": "code",
   "metadata": {
    "id": "9c7k8F2wBY7O",
    "colab": {
     "base_uri": "https://localhost:8080/",
     "height": 846
    },
    "executionInfo": {
     "status": "ok",
     "timestamp": 1628888330593,
     "user_tz": -330,
     "elapsed": 1206,
     "user": {
      "displayName": "Bertrand Kwibuka",
      "photoUrl": "https://lh3.googleusercontent.com/a-/AOh14GjTN0MNu3HMdyI-k1Xwr3e4pF521hd01Rv-Qhh-wg=s64",
      "userId": "14120959365019312055"
     }
    },
    "outputId": "4e7034ef-f289-410e-9bcb-aa30fbbf5633"
   },
   "source": [
    "# Plots\n",
    "\n",
    "# Periods for the time-path in the graph\n",
    "time=[t for t in range(1970,2070)]\n",
    "ll = len(time)\n",
    "\n",
    "#Re-introducing h[t] here for plotting: \n",
    "print(h)\n",
    "\n",
    "#savings rate\n",
    "plt.figure()\n",
    "plt.plot(time[:41], s, 'r-',linestyle='dashed', label='model')\n",
    "plt.plot(time[:41], s_data, 'b-', label='data')\n",
    "\n",
    "plt.xlim(1970,2010)\n",
    "plt.ylim(0, 0.35)\n",
    "plt.title(\"Savings rate: Mexico\")\n",
    "plt.legend()\n",
    "plt.show()\n",
    "\n",
    "#savings rate\n",
    "plt.figure()\n",
    "plt.plot(time[:41], ky_ratio, 'r-',linestyle='dashed', label='model')\n",
    "plt.plot(time[:41], ky_data, 'b-', label='data')\n",
    "plt.xlim(1970,2010)\n",
    "plt.ylim(0, 4.5)\n",
    "plt.title(\"Mexico; K/Y\")\n",
    "plt.legend()\n",
    "plt.show()\n",
    "\n",
    "#labour hours plot \n",
    "\n",
    "plt.figure()\n",
    "plt.plot(time[:41], l_data, 'b-', label='data')\n",
    "plt.plot(time[:41], h[0:41], 'r-', linestyle='dashed', label='model')\n",
    "plt.xlim(1970,2010)\n",
    "plt.ylim(18, 30)\n",
    "plt.title(\"Mexico: labour\")\n",
    "plt.legend()\n",
    "plt.show()\n",
    "\n"
   ],
   "execution_count": null,
   "outputs": [
    {
     "output_type": "stream",
     "text": [
      "[23.584572973054453, 23.55028833801707, 22.589921069942577, 22.887071046629117, 23.424185026357733, 23.263421768656496, 22.683306640437763, 22.831797078272533, 22.159105730391058, 22.86675758739466, 23.557650840441955, 24.168149067053513, 25.56466923781911, 26.231208947124617, 24.07265349899465, 23.994377125600444, 24.59233467424538, 23.98002466567967, 23.703942644855005, 21.43581890131839, 21.596767216309164, 21.797926748207402, 22.466466933143312, 22.486506543280157, 22.34492660224433, 23.673038251914228, 22.121483138146157, 22.258565867081426, 22.72372241324377, 22.863118332751437, 22.389773608968163, 22.709365966366374, 22.17944618804327, 22.253597479431527, 21.75385366715855, 21.833242325647017, 21.91007704348078, 22.164620132237214, 22.008759969691653, 21.449991948358925, 19.559120475288058, 20.229569001581915, 20.799932899733324, 21.280253949020672, 21.68132162791712, 22.013859635831775, 22.287984234942076, 22.512890040731662, 22.696707388884498, 22.846477926076883, 22.968204378964334, 23.0669415482187, 23.146905725541927, 23.211587857001117, 23.26386173974698, 23.30608263889657, 23.340174373463363, 23.36770455068707, 23.389948557000427, 23.40794338702945, 23.422532582419546, 23.43440357658337, 23.44411867567795, 23.45214079821362, 23.458854974969064, 23.464586494597707, 23.469616478213744, 23.474195583625345, 23.47855647953383, 23.482925693553568, 23.487535426579836, 23.492635941274226, 23.498509176188126, 23.505484311935046, 23.51395612521544, 23.524407114362646, 23.53743457061785, 23.553784006202623, 23.574390635105903, 23.600430932525114, 23.633386662681783, 23.675124135604772, 23.727991779186034, 23.79493930011915, 23.87966159987587, 23.98676996081249, 24.121991446124063, 24.292394427132884, 24.50663294775198, 24.775194412680914, 25.110623036406828, 25.527675247403444, 26.0433436190331, 26.67666600792292, 27.448223112088613, 28.379231566427425, 29.490174805381958, 30.798991716960394, 32.31896307063503, 34.05657463155685]\n"
     ],
     "name": "stdout"
    },
    {
     "output_type": "display_data",
     "data": {
      "image/png": "[encoded data removed]",
      "text/plain": [
       "<Figure size 432x288 with 1 Axes>"
      ]
     },
     "metadata": {
      "tags": [],
      "needs_background": "light"
     }
    },
    {
     "output_type": "display_data",
     "data": {
      "image/png": "[encoded data removed]",
      "text/plain": [
       "<Figure size 432x288 with 1 Axes>"
      ]
     },
     "metadata": {
      "tags": [],
      "needs_background": "light"
     }
    },
    {
     "output_type": "display_data",
     "data": {
      "image/png": "[encoded data removed]",
      "text/plain": [
       "<Figure size 432x288 with 1 Axes>"
      ]
     },
     "metadata": {
      "tags": [],
      "needs_background": "light"
     }
    }
   ]
  },
  {
   "cell_type": "markdown",
   "metadata": {
    "id": "UWqG96sVRwUn"
   },
   "source": [
    "# The model for labor is highly dependent on the value of T which is unknown for Mexico! I kept it at T=3.9 to have this plot\n",
    "\n"
   ]
  },
  {
   "cell_type": "markdown",
   "metadata": {
    "id": "qbOglbFRUJTd"
   },
   "source": []
  },
  {
   "cell_type": "markdown",
   "metadata": {
    "id": "1Tz1QriJmf8i"
   },
   "source": [
    "# Question 2: Plotting counterfactuals for Mexico\n",
    "\n",
    "# Savings rate in  Mexico and analyzing TFP"
   ]
  },
  {
   "cell_type": "code",
   "metadata": {
    "colab": {
     "base_uri": "https://localhost:8080/",
     "height": 281
    },
    "id": "Nc4PexYkqBEM",
    "executionInfo": {
     "status": "ok",
     "timestamp": 1628888702592,
     "user_tz": -330,
     "elapsed": 658,
     "user": {
      "displayName": "Bertrand Kwibuka",
      "photoUrl": "https://lh3.googleusercontent.com/a-/AOh14GjTN0MNu3HMdyI-k1Xwr3e4pF521hd01Rv-Qhh-wg=s64",
      "userId": "14120959365019312055"
     }
    },
    "outputId": "b84bccd6-7a9c-46d4-94d9-fe0a4605a3de"
   },
   "source": [
    "#Re-introduction of TFP factor data: normalized just for plotting \n",
    "\n",
    "\n",
    "A_data = np.array([1.0000,  0.9544 ,  0.9726 ,  1.0003 ,  0.9882 ,  0.9599 ,  0.9677 ,  0.9372 ,  0.9688 ,  0.9980 ,  1.0161 ,  1.0670 ,  1.0737 ,  0.9445 ,  0.9174 ,  0.9167 ,  0.8654 ,  0.8536 ,  0.7655 ,  0.7686 ,  0.7739 ,  0.7975 ,  0.7980 ,  0.7966 ,  0.8534 ,  0.8002 ,  0.8109 ,  0.8337 ,  0.8437 ,  0.8281 ,  0.8427 ,  0.8240 ,  0.8297 ,  0.8139 ,  0.8211 ,  0.8294 ,  0.8457 ,  0.8459 ,  0.8310 ,  0.7678 ,  0.8058 ])\n",
    "A = [1]*(len(time)) # Model A\n",
    "\n",
    "for i in range(0, len(time)):\n",
    "   \n",
    "    if i < len(A_data):\n",
    "        A[i] = A_data[i]\n",
    "    else:\n",
    "        A[i] = A_data[len(A_data)-1]\n",
    "\n",
    "plt.figure()\n",
    "plt.plot(time, A, 'g-', label='Mexico')\n",
    "plt.plot(time[:41], A_data[0:41])\n",
    "plt.xlim(1970,2030)\n",
    "plt.ylim(0,3)\n",
    "plt.title(\"TFP factor\")\n",
    "plt.legend()\n",
    "plt.show()\n"
   ],
   "execution_count": null,
   "outputs": [
    {
     "output_type": "display_data",
     "data": {
      "image/png": "[encoded data removed]",
      "text/plain": [
       "<Figure size 432x288 with 1 Axes>"
      ]
     },
     "metadata": {
      "tags": [],
      "needs_background": "light"
     }
    }
   ]
  },
  {
   "cell_type": "code",
   "metadata": {
    "id": "kxQ5o1kMA5j6",
    "colab": {
     "base_uri": "https://localhost:8080/",
     "height": 281
    },
    "executionInfo": {
     "status": "ok",
     "timestamp": 1628888790863,
     "user_tz": -330,
     "elapsed": 509,
     "user": {
      "displayName": "Bertrand Kwibuka",
      "photoUrl": "https://lh3.googleusercontent.com/a-/AOh14GjTN0MNu3HMdyI-k1Xwr3e4pF521hd01Rv-Qhh-wg=s64",
      "userId": "14120959365019312055"
     }
    },
    "outputId": "bbbe4087-77d2-4d9a-963b-d15f104bd824"
   },
   "source": [
    "# Plot dynamics of normalized c, h, k and savings rate\n",
    "\n",
    "# Periods for the time-path in the graph\n",
    "time=[t for t in range(1970,2100)]\n",
    "\n",
    "#plotting \n",
    "plt.plot(time[:41], A_data, '-r', label='TFP only')   #TFP growth from series \n",
    "plt.plot(time[:41], s, 'r-', label='Benchmark', linestyle='dashed')  #Savings rate from the model \n",
    "plt.plot(time[:41], s_data, 'b-', label='Data')   #Savings rate from series \n",
    "\n",
    "plt.xlim(1970,2010)\n",
    "plt.ylim(0,1.5)\n",
    "plt.title(\"Mexico: TFP only\")\n",
    "plt.legend()\n",
    "plt.show()\n",
    "\n",
    "\n",
    "\n"
   ],
   "execution_count": null,
   "outputs": [
    {
     "output_type": "display_data",
     "data": {
      "image/png": "[encoded data removed]",
      "text/plain": [
       "<Figure size 432x288 with 1 Axes>"
      ]
     },
     "metadata": {
      "tags": [],
      "needs_background": "light"
     }
    }
   ]
  },
  {
   "cell_type": "code",
   "metadata": {
    "id": "RgGKN-0qrFbe"
   },
   "source": [],
   "execution_count": null,
   "outputs": []
  },
  {
   "cell_type": "markdown",
   "metadata": {
    "id": "QtVG_TnoV0MW"
   },
   "source": [
    "# Bear with the scaling of this graph. All individual graphs are correct, but it may look off because savings rate and TFP for Mexico have really distant values. There was no model to refer to as a counterfactual plot."
   ]
  }
 ]
}
